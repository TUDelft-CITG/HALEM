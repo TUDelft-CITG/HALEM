{
 "cells": [
  {
   "cell_type": "code",
   "execution_count": 1,
   "metadata": {},
   "outputs": [],
   "source": [
    "import RODFF.Mesh_maker as Mesh_maker\n",
    "import RODFF.Functions as Functions\n",
    "import RODFF.Calc_path as Calc_path\n",
    "import RODFF.Flow_class as Flow_class\n",
    "\n",
    "import pytest\n",
    "from click.testing import CliRunner\n",
    "import numpy as np\n",
    "from scipy.spatial import Delaunay\n",
    "from IPython.display import clear_output"
   ]
  },
  {
   "cell_type": "code",
   "execution_count": 7,
   "metadata": {},
   "outputs": [
    {
     "name": "stdout",
     "output_type": "stream",
     "text": [
      "4/4\n"
     ]
    }
   ],
   "source": [
    "class flow_class():\n",
    "    def __init__(self, name =  'maaktnietuit'):\n",
    "        self.t = np.arange(0,100)\n",
    "        self.nodes = np.array([(0,0),\n",
    "                          (0,0.001),\n",
    "                          (0.001,0.001),\n",
    "                          (0,0.003),])\n",
    "        \n",
    "        self.tria = Delaunay(self.nodes)\n",
    "        \n",
    "        self.WD = np.ones((len(self.t), len(self.nodes)))*100\n",
    "        self.u = np.ones((len(self.t), len(self.nodes)))*0\n",
    "        self.v = np.ones((len(self.t), len(self.nodes)))*0\n",
    "        self.u[:,2] = 10\n",
    "name_textfile_flow = 'maaktnietuit'\n",
    "Load_flow = flow_class\n",
    "blend = 0\n",
    "nl = (1,1)\n",
    "dx_min = 0.0000001\n",
    "vship = np.array([[3,4],[4,5]])\n",
    "WD_min = 1\n",
    "\n",
    "def compute_cost(week_rate, fuel_rate):\n",
    "    second_rate = week_rate/7/24/60/60\n",
    "    return lambda travel_time, speed: (travel_time*second_rate + fuel_rate*travel_time * speed**3)\n",
    "\n",
    "QQ = compute_cost(700_000, 0.0008)\n",
    "\n",
    "nodes_on_land = Flow_class.nodes_on_land_None\n",
    "number_of_neighbor_layers = 1\n",
    "\n",
    "Roadmap = Mesh_maker.Graph_flow_model(name_textfile_flow, \n",
    "                            dx_min, blend, \n",
    "                            nl, \n",
    "                            number_of_neighbor_layers, \n",
    "                            vship, \n",
    "                            Load_flow, \n",
    "                            WD_min, \n",
    "                            QQ, \n",
    "                            nodes_on_land\n",
    "                           )"
   ]
  },
  {
   "cell_type": "code",
   "execution_count": 8,
   "metadata": {},
   "outputs": [],
   "source": [
    "def test_find_startstop():\n",
    "    nodes = np.array([(0,0),(0,1),(1,0),(1,1),])\n",
    "    start = (0.5,0.5)\n",
    "    start = Calc_path.find_startstop(start, nodes)\n",
    "    assert start == 0 \n",
    "    start = (0.1,0)\n",
    "    start = Calc_path.find_startstop(start, nodes)\n",
    "    assert start == 0 \n",
    "    start = (0.1,1)\n",
    "    start = Calc_path.find_startstop(start, nodes)\n",
    "    assert start == 1\n",
    "    start = (1.1,1)\n",
    "    start = Calc_path.find_startstop(start, nodes)\n",
    "    assert start == 3\n",
    "    \n",
    "def test_find_k():\n",
    "    ts = 100\n",
    "    t = np.arange(0,200,0.33)\n",
    "    k = Calc_path.find_k(t,ts)\n",
    "    assert k == 303\n",
    "    \n",
    "def test_dijstra(Roadmap):\n",
    "    vmax = 5\n",
    "    vvmax = Roadmap.vship[:,-1]\n",
    "    vv= np.abs(vvmax - vmax)\n",
    "    arg_vship = int(np.argwhere(vv == vv.min())[0])\n",
    "\n",
    "    class graph_functions_time:\n",
    "        function_type = \"time optimalisation\"\n",
    "        weights = Roadmap.weight_time[arg_vship].weights\n",
    "        time = Roadmap.weight_time[arg_vship].weights\n",
    "        vship = Roadmap.vship[arg_vship]\n",
    "\n",
    "    class graph_functions_space:\n",
    "        function_type = \"time optimalisation\"\n",
    "        weights = Roadmap.weight_space[arg_vship].weights\n",
    "        time = Roadmap.weight_time[arg_vship].weights\n",
    "        vship = Roadmap.vship[arg_vship]\n",
    "\n",
    "    time_path = Calc_path.dijsktra(Roadmap, (0,0), (3,0), 0, graph_functions_time)\n",
    "    space_path = Calc_path.dijsktra(Roadmap, (0,0), (3,0), 0, graph_functions_space)\n",
    "    \n",
    "    clear_output()\n",
    "\n",
    "    assert time_path[1][0] == 2\n",
    "    assert space_path[1][0] == 1\n",
    "    assert np.array(time_path)[1,-1] == 1"
   ]
  },
  {
   "cell_type": "code",
   "execution_count": 9,
   "metadata": {},
   "outputs": [
    {
     "name": "stdout",
     "output_type": "stream",
     "text": [
      "passed all tests\n"
     ]
    }
   ],
   "source": [
    "test_find_startstop()\n",
    "test_find_k()\n",
    "test_dijstra(Roadmap)\n",
    "\n",
    "print('passed all tests')"
   ]
  },
  {
   "cell_type": "code",
   "execution_count": 10,
   "metadata": {},
   "outputs": [],
   "source": [
    "import matplotlib.pyplot as plt\n",
    "%matplotlib inline"
   ]
  },
  {
   "cell_type": "code",
   "execution_count": null,
   "metadata": {},
   "outputs": [],
   "source": []
  },
  {
   "cell_type": "code",
   "execution_count": null,
   "metadata": {},
   "outputs": [],
   "source": []
  },
  {
   "cell_type": "code",
   "execution_count": null,
   "metadata": {},
   "outputs": [],
   "source": []
  },
  {
   "cell_type": "code",
   "execution_count": null,
   "metadata": {},
   "outputs": [],
   "source": []
  }
 ],
 "metadata": {
  "kernelspec": {
   "display_name": "Python 3",
   "language": "python",
   "name": "python3"
  },
  "language_info": {
   "codemirror_mode": {
    "name": "ipython",
    "version": 3
   },
   "file_extension": ".py",
   "mimetype": "text/x-python",
   "name": "python",
   "nbconvert_exporter": "python",
   "pygments_lexer": "ipython3",
   "version": "3.6.5"
  }
 },
 "nbformat": 4,
 "nbformat_minor": 2
}
