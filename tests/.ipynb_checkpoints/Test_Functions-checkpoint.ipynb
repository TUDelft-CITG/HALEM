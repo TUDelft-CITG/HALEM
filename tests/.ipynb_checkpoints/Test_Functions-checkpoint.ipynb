{
 "cells": [
  {
   "cell_type": "code",
   "execution_count": 1,
   "metadata": {},
   "outputs": [],
   "source": [
    "import RODFF.Mesh_maker as Mesh_maker\n",
    "import RODFF.Functions as Functions\n",
    "import RODFF.Calc_path as Calc_path\n",
    "import RODFF.Flow_class as Flow_class\n",
    "\n",
    "import pytest\n",
    "from click.testing import CliRunner\n",
    "import numpy as np\n",
    "import geopy.distance"
   ]
  },
  {
   "cell_type": "code",
   "execution_count": 2,
   "metadata": {},
   "outputs": [],
   "source": [
    "@pytest.fixture\n",
    "def coord_a():\n",
    "    return (0,0)\n",
    "\n",
    "@pytest.fixture\n",
    "def coord_b():\n",
    "    return (0,1)\n",
    "\n",
    "@pytest.fixture\n",
    "def vship():\n",
    "    return 5\n",
    "\n",
    "@pytest.fixture\n",
    "def v(mag):\n",
    "    v = np.array([[0,0,1,-1]])\n",
    "    v = mag * np.concatenate((v,v), axis = 0)\n",
    "    return v\n",
    "\n",
    "@pytest.fixture\n",
    "def u(mag):\n",
    "    u = np.array([[1,-1,0,0]])\n",
    "    u = mag * np.concatenate((u,u), axis = 0)\n",
    "    return u"
   ]
  },
  {
   "cell_type": "code",
   "execution_count": 3,
   "metadata": {},
   "outputs": [],
   "source": [
    "def test_haversine(coord_a, coord_b):\n",
    "    dist = Functions.haversine(coord_a(), coord_a())\n",
    "    dist1 = Functions.haversine(coord_a(), coord_b())\n",
    "    dist2 = geopy.distance.geodesic(coord_a(), coord_b()).m\n",
    "\n",
    "    assert dist == 0 \n",
    "    assert abs(dist1 - dist2) < 0.01*dist1\n",
    "    \n",
    "def test_costfunction_space(coord_a, coord_b,u, v, vship):\n",
    "    edge = (0,1)\n",
    "    nodes = [coord_a(), coord_b()]\n",
    "    mask = np.full((u(1).shape), False)\n",
    "    L = Functions.costfunction_spaceseries(edge, vship(), nodes, u(1), v(1), mask)\n",
    "    dist = Functions.haversine(coord_a(), coord_b()) * np.ones(u(1).shape[1])\n",
    "    \n",
    "    np.testing.assert_array_equal(L,dist)\n",
    "    \n",
    "def test_costfunction_time(coord_a, coord_b,u, v, vship):\n",
    "    mag = 3\n",
    "    edge = (0,1)\n",
    "    nodes = [coord_a(), coord_b()]\n",
    "    mask = np.full((u(mag).shape), False)\n",
    "    L = Functions.costfunction_timeseries(edge, vship(), nodes, u(mag), v(mag), mask)\n",
    "    VV = np.array([vship() + mag, vship() - mag, (vship()**2 - mag**2)**0.5, (vship()**2 - mag**2)**0.5 ])\n",
    "    dist1 = Functions.haversine(coord_a(), coord_b())\n",
    "    dist = dist1/VV\n",
    "\n",
    "    np.testing.assert_array_equal(L,dist)"
   ]
  },
  {
   "cell_type": "code",
   "execution_count": 4,
   "metadata": {},
   "outputs": [
    {
     "name": "stdout",
     "output_type": "stream",
     "text": [
      "Passed all tests\n"
     ]
    }
   ],
   "source": [
    "test_haversine(coord_a, coord_b)\n",
    "test_costfunction_space(coord_a, coord_b,u, v, vship)\n",
    "test_costfunction_time(coord_a, coord_b,u, v, vship)\n",
    "print('Passed all tests')"
   ]
  }
 ],
 "metadata": {
  "kernelspec": {
   "display_name": "Python 3",
   "language": "python",
   "name": "python3"
  },
  "language_info": {
   "codemirror_mode": {
    "name": "ipython",
    "version": 3
   },
   "file_extension": ".py",
   "mimetype": "text/x-python",
   "name": "python",
   "nbconvert_exporter": "python",
   "pygments_lexer": "ipython3",
   "version": "3.6.5"
  }
 },
 "nbformat": 4,
 "nbformat_minor": 2
}
