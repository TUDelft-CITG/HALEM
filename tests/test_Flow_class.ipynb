{
 "cells": [
  {
   "cell_type": "code",
   "execution_count": 1,
   "metadata": {},
   "outputs": [],
   "source": [
    "import halem.Mesh_maker as Mesh_maker\n",
    "import halem.Functions as Functions\n",
    "import halem.Calc_path as Calc_path\n",
    "import halem.Flow_class as Flow_class\n",
    "\n",
    "import pytest\n",
    "import numpy as np\n",
    "\n",
    "\n",
    "def test_nodes_on_land_Waddensea():\n",
    "    nodes = np.zeros((10,2))\n",
    "    WD = np.zeros((10,20))\n",
    "    u = 1.0*WD\n",
    "    v = 1.0*WD\n",
    "    new_nodes,new_u,new_v,new_WD = Flow_class.nodes_on_land_Waddensea(nodes,u,v,WD)\n",
    "\n",
    "\n",
    "    assert new_nodes.shape == (212, 2)\n",
    "    assert new_WD.shape == (212,20)\n",
    "    assert new_u.shape == (212,20)\n",
    "    assert new_v.shape == (212,20)\n",
    "\n",
    "    np.testing.assert_array_equal(new_WD, np.zeros(new_WD.shape))\n",
    "    np.testing.assert_array_equal(new_v, np.zeros(new_v.shape))\n",
    "    np.testing.assert_array_equal(new_u, np.zeros(new_u.shape))"
   ]
  },
  {
   "cell_type": "code",
   "execution_count": 3,
   "metadata": {},
   "outputs": [
    {
     "name": "stdout",
     "output_type": "stream",
     "text": [
      "passed all tests\n"
     ]
    }
   ],
   "source": [
    "test_nodes_on_land_Waddensea()\n",
    "print('passed all tests')"
   ]
  },
  {
   "cell_type": "code",
   "execution_count": null,
   "metadata": {},
   "outputs": [],
   "source": []
  }
 ],
 "metadata": {
  "kernelspec": {
   "display_name": "Python 3",
   "language": "python",
   "name": "python3"
  },
  "language_info": {
   "codemirror_mode": {
    "name": "ipython",
    "version": 3
   },
   "file_extension": ".py",
   "mimetype": "text/x-python",
   "name": "python",
   "nbconvert_exporter": "python",
   "pygments_lexer": "ipython3",
   "version": "3.6.5"
  }
 },
 "nbformat": 4,
 "nbformat_minor": 2
}
