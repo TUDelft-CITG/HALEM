{
 "cells": [
  {
   "cell_type": "code",
   "execution_count": 1,
   "metadata": {},
   "outputs": [],
   "source": [
    "import RODFF.Mesh_maker as Mesh_maker\n",
    "import RODFF.Functions as Functions\n",
    "import RODFF.Calc_path as Calc_path\n",
    "import RODFF.Flow_class as Flow_class\n",
    "\n",
    "import pytest\n",
    "from click.testing import CliRunner\n",
    "import numpy as np\n",
    "from scipy.spatial import Delaunay\n",
    "from scipy.signal import argrelextrema"
   ]
  },
  {
   "cell_type": "code",
   "execution_count": null,
   "metadata": {},
   "outputs": [],
   "source": []
  },
  {
   "cell_type": "code",
   "execution_count": 32,
   "metadata": {},
   "outputs": [],
   "source": [
    "def test_Graph():\n",
    "    node1 = 1\n",
    "    node2 = 2\n",
    "    node3 = 3\n",
    "    weight = np.pi\n",
    "    G = Mesh_maker.Graph()\n",
    "    \n",
    "    G.add_edge(node1,node2,weight)\n",
    "    assert G.weights[1,2] == weight\n",
    "    assert G.edges[node1] == [node2]\n",
    "    assert G.edges[node2] == []\n",
    "    assert G.edges[node3] == []\n",
    "\n",
    "    G.add_edge(node1,node3,weight)\n",
    "    assert G.weights[1,3] == weight\n",
    "    assert G.edges[node1] == [node2, node3]\n",
    "    assert G.edges[node2] == []\n",
    "    assert G.edges[node3] == []\n",
    "\n",
    "    G.add_edge(node2,node1,weight)\n",
    "    assert G.weights[2,1] == weight\n",
    "    assert G.edges[node1] == [node2, node3]\n",
    "    assert G.edges[node2] == [node1]\n",
    "    assert G.edges[node3] == []\n",
    "\n",
    "\n",
    "    G.add_edge(node2,node3,weight)\n",
    "    assert G.weights[2,3] == weight\n",
    "    assert G.edges[node1] == [node2, node3]\n",
    "    assert G.edges[node2] == [node1, node3]\n",
    "    assert G.edges[node3] == []\n",
    "\n",
    "    G.add_edge(node3,node1,weight)\n",
    "    assert G.weights[3,1] == weight\n",
    "    assert G.edges[node1] == [node2, node3]\n",
    "    assert G.edges[node2] == [node1, node3]\n",
    "    assert G.edges[node3] == [node1]\n",
    "\n",
    "    G.add_edge(node3,node2,weight)\n",
    "    assert G.weights[3,2] == weight\n",
    "    assert G.edges[node1] == [node2, node3]\n",
    "    assert G.edges[node2] == [node1, node3]\n",
    "    assert G.edges[node3] == [node1, node2]\n",
    "\n",
    "def test_find_neighbor():\n",
    "    nodes =[(3,3),\n",
    "            (2,2),(2,4),(4,2),(4,4), \n",
    "            (1,1),(1,3),(1,5),(3,1),(3,5),(5,1),(5,3),(5,5),\n",
    "            (0,0),(0,2),(0,4),(0,6),(2,0),(4,0),(2,6),(4,6),(6,0),(6,2),(6,4),(6,6),\n",
    "           ] \n",
    "\n",
    "    tria = Delaunay(nodes)\n",
    "    nb = Mesh_maker.find_neighbors(0, tria)\n",
    "    \n",
    "    assert len(nb) == 4\n",
    "    for i in range(1,5):\n",
    "        assert i in nb\n",
    "\n",
    "def test_find_neighbor2():\n",
    "    nodes =[(3,3),\n",
    "            (2,2),(2,4),(4,2),(4,4), \n",
    "            (1,1),(0.9,3),(1,5),(3,1),(3,5.1),(5,1),(5,3),(5,5),\n",
    "            (0,0),(-.1,2),(-.1,4),(0,6),(2,0),(4,0),(2,6.1),(4,6.1),(6,0),(6,2),(6,4.1),(6,6),\n",
    "           ] \n",
    "    tria = Delaunay(nodes)\n",
    "    \n",
    "    nb = Mesh_maker.find_neighbors2(0, tria,0)\n",
    "    assert len(nb) == 0\n",
    "    \n",
    "    nb = Mesh_maker.find_neighbors2(0, tria,1)\n",
    "    assert len(nb) == 4\n",
    "    for i in range(1,5):\n",
    "        assert i in nb\n",
    "        \n",
    "    nb = Mesh_maker.find_neighbors2(0, tria,2)\n",
    "    assert len(nb) == 12\n",
    "    for i in range(1,13):\n",
    "        assert i in nb\n",
    "\n",
    "    nb = Mesh_maker.find_neighbors2(0, tria,3)\n",
    "    assert len(nb) == 24\n",
    "    for i in range(1,25):\n",
    "        assert i in nb\n",
    "\n",
    "def test_FIFO_maker():\n",
    "    x = np.arange(0,2*np.pi,0.01)\n",
    "    y = 2*np.sin(x)+x\n",
    "    y = Mesh_maker.FIFO_maker(y)\n",
    "    loc_min = argrelextrema(y, np.less)\n",
    "    assert len(loc_min[0]) == 0\n",
    "    \n",
    "    x = np.arange(0,4*np.pi,0.01)\n",
    "    y = 2*np.sin(x)+x\n",
    "    y = Mesh_maker.FIFO_maker(y)\n",
    "    loc_min = argrelextrema(y, np.less)\n",
    "    assert len(loc_min[0]) == 0\n",
    "    \n",
    "def test_closest_node():\n",
    "    nodes = np.array([(0,0),(-1,-1),(-2,2),(-2,-2),(2,2),(2,-2),(0,1)])\n",
    "    node = 0\n",
    "    node_list = np.arange(1,5, dtype=int)\n",
    "\n",
    "    cn = Mesh_maker.closest_node(node,node_list, nodes)\n",
    "    assert cn == 1\n",
    "    \n",
    "def test_Length_scale(flow):\n",
    "    blend = 0\n",
    "    nl = (1,1)\n",
    "\n",
    "    nodes = (flow.nodes)\n",
    "    for i in range(len(nodes)):\n",
    "        ls = Mesh_maker.Length_scale(i, flow, blend, nl)\n",
    "        assert ls == 0.5"
   ]
  },
  {
   "cell_type": "code",
   "execution_count": 33,
   "metadata": {},
   "outputs": [
    {
     "name": "stdout",
     "output_type": "stream",
     "text": [
      "Passed all tests\n"
     ]
    }
   ],
   "source": [
    "test_Graph()\n",
    "test_find_neighbor()\n",
    "test_find_neighbor2()\n",
    "test_FIFO_maker()\n",
    "test_closest_node()\n",
    "test_Length_scale(flow)\n",
    "\n",
    "print('Passed all tests')"
   ]
  },
  {
   "cell_type": "code",
   "execution_count": 4,
   "metadata": {},
   "outputs": [],
   "source": [
    "import matplotlib.pyplot as plt\n",
    "%matplotlib inline"
   ]
  },
  {
   "cell_type": "code",
   "execution_count": 15,
   "metadata": {},
   "outputs": [],
   "source": [
    "class flow_class():\n",
    "    def __init__(self):\n",
    "        self.t = np.arange(0,10)\n",
    "        \n",
    "        x = np.arange(0,10,0.5)\n",
    "        xx, yy = np.meshgrid(x,x)\n",
    "        xx = xx.reshape(xx.size)\n",
    "        yy = yy.reshape(yy.size)\n",
    "        self.nodes = np.zeros((len(xx),2))\n",
    "        self.nodes[:,0] = xx\n",
    "        self.nodes[:,1] = yy\n",
    "        self.tria = Delaunay(self.nodes)\n",
    "        \n",
    "        self.WD = np.ones((len(self.t), len(self.nodes)))*100\n",
    "        self.u = [np.sin(self.nodes[:,0]/10*2*np.pi)]\n",
    "        self.v = [np.cos(self.nodes[:,0]/10*2*np.pi)]\n",
    "        u = self.u\n",
    "        v = self.v\n",
    "        \n",
    "        \n",
    "        for i in range(len(self.t)-1):\n",
    "            self.u = np.concatenate((self.u, u))\n",
    "            self.v = np.concatenate((self.v, v))\n"
   ]
  },
  {
   "cell_type": "code",
   "execution_count": 16,
   "metadata": {},
   "outputs": [
    {
     "data": {
      "text/plain": [
       "(10, 400)"
      ]
     },
     "execution_count": 16,
     "metadata": {},
     "output_type": "execute_result"
    }
   ],
   "source": [
    "flow = flow_class()\n",
    "flow.u.shape"
   ]
  },
  {
   "cell_type": "code",
   "execution_count": 18,
   "metadata": {},
   "outputs": [
    {
     "data": {
      "text/plain": [
       "<matplotlib.quiver.Quiver at 0x25f73e0e780>"
      ]
     },
     "execution_count": 18,
     "metadata": {},
     "output_type": "execute_result"
    },
    {
     "data": {
      "image/png": "[encoded data removed]",
      "text/plain": [
       "<Figure size 432x288 with 1 Axes>"
      ]
     },
     "metadata": {},
     "output_type": "display_data"
    }
   ],
   "source": [
    "plt.quiver(flow.nodes[:,0],\n",
    "           flow.nodes[:,1],\n",
    "           flow.u[0],\n",
    "           flow.v[0],\n",
    "          )"
   ]
  },
  {
   "cell_type": "code",
   "execution_count": 31,
   "metadata": {},
   "outputs": [],
   "source": [
    "blend = 0\n",
    "nl = (1,1)\n",
    "\n",
    "nodes = (flow.nodes)\n",
    "for i in range(len(nodes)):\n",
    "    ls = Mesh_maker.Length_scale(i, flow, blend, nl)\n",
    "    assert ls == 0.5\n",
    "    \n"
   ]
  },
  {
   "cell_type": "code",
   "execution_count": 30,
   "metadata": {},
   "outputs": [
    {
     "data": {
      "text/plain": [
       "array([0.5, 0.5, 0.5, 0.5, 0.5, 0.5, 0.5, 0.5, 0.5, 0.5, 0.5, 0.5, 0.5,\n",
       "       0.5, 0.5, 0.5, 0.5, 0.5, 0.5, 0.5, 0.5, 0.5, 0.5, 0.5, 0.5, 0.5,\n",
       "       0.5, 0.5, 0.5, 0.5, 0.5, 0.5, 0.5, 0.5, 0.5, 0.5, 0.5, 0.5, 0.5,\n",
       "       0.5, 0.5, 0.5, 0.5, 0.5, 0.5, 0.5, 0.5, 0.5, 0.5, 0.5, 0.5, 0.5,\n",
       "       0.5, 0.5, 0.5, 0.5, 0.5, 0.5, 0.5, 0.5, 0.5, 0.5, 0.5, 0.5, 0.5,\n",
       "       0.5, 0.5, 0.5, 0.5, 0.5, 0.5, 0.5, 0.5, 0.5, 0.5, 0.5, 0.5, 0.5,\n",
       "       0.5, 0.5, 0.5, 0.5, 0.5, 0.5, 0.5, 0.5, 0.5, 0.5, 0.5, 0.5, 0.5,\n",
       "       0.5, 0.5, 0.5, 0.5, 0.5, 0.5, 0.5, 0.5, 0.5, 0.5, 0.5, 0.5, 0.5,\n",
       "       0.5, 0.5, 0.5, 0.5, 0.5, 0.5, 0.5, 0.5, 0.5, 0.5, 0.5, 0.5, 0.5,\n",
       "       0.5, 0.5, 0.5, 0.5, 0.5, 0.5, 0.5, 0.5, 0.5, 0.5, 0.5, 0.5, 0.5,\n",
       "       0.5, 0.5, 0.5, 0.5, 0.5, 0.5, 0.5, 0.5, 0.5, 0.5, 0.5, 0.5, 0.5,\n",
       "       0.5, 0.5, 0.5, 0.5, 0.5, 0.5, 0.5, 0.5, 0.5, 0.5, 0.5, 0.5, 0.5,\n",
       "       0.5, 0.5, 0.5, 0.5, 0.5, 0.5, 0.5, 0.5, 0.5, 0.5, 0.5, 0.5, 0.5,\n",
       "       0.5, 0.5, 0.5, 0.5, 0.5, 0.5, 0.5, 0.5, 0.5, 0.5, 0.5, 0.5, 0.5,\n",
       "       0.5, 0.5, 0.5, 0.5, 0.5, 0.5, 0.5, 0.5, 0.5, 0.5, 0.5, 0.5, 0.5,\n",
       "       0.5, 0.5, 0.5, 0.5, 0.5, 0.5, 0.5, 0.5, 0.5, 0.5, 0.5, 0.5, 0.5,\n",
       "       0.5, 0.5, 0.5, 0.5, 0.5, 0.5, 0.5, 0.5, 0.5, 0.5, 0.5, 0.5, 0.5,\n",
       "       0.5, 0.5, 0.5, 0.5, 0.5, 0.5, 0.5, 0.5, 0.5, 0.5, 0.5, 0.5, 0.5,\n",
       "       0.5, 0.5, 0.5, 0.5, 0.5, 0.5, 0.5, 0.5, 0.5, 0.5, 0.5, 0.5, 0.5,\n",
       "       0.5, 0.5, 0.5, 0.5, 0.5, 0.5, 0.5, 0.5, 0.5, 0.5, 0.5, 0.5, 0.5,\n",
       "       0.5, 0.5, 0.5, 0.5, 0.5, 0.5, 0.5, 0.5, 0.5, 0.5, 0.5, 0.5, 0.5,\n",
       "       0.5, 0.5, 0.5, 0.5, 0.5, 0.5, 0.5, 0.5, 0.5, 0.5, 0.5, 0.5, 0.5,\n",
       "       0.5, 0.5, 0.5, 0.5, 0.5, 0.5, 0.5, 0.5, 0.5, 0.5, 0.5, 0.5, 0.5,\n",
       "       0.5, 0.5, 0.5, 0.5, 0.5, 0.5, 0.5, 0.5, 0.5, 0.5, 0.5, 0.5, 0.5,\n",
       "       0.5, 0.5, 0.5, 0.5, 0.5, 0.5, 0.5, 0.5, 0.5, 0.5, 0.5, 0.5, 0.5,\n",
       "       0.5, 0.5, 0.5, 0.5, 0.5, 0.5, 0.5, 0.5, 0.5, 0.5, 0.5, 0.5, 0.5,\n",
       "       0.5, 0.5, 0.5, 0.5, 0.5, 0.5, 0.5, 0.5, 0.5, 0.5, 0.5, 0.5, 0.5,\n",
       "       0.5, 0.5, 0.5, 0.5, 0.5, 0.5, 0.5, 0.5, 0.5, 0.5, 0.5, 0.5, 0.5,\n",
       "       0.5, 0.5, 0.5, 0.5, 0.5, 0.5, 0.5, 0.5, 0.5, 0.5, 0.5, 0.5, 0.5,\n",
       "       0.5, 0.5, 0.5, 0.5, 0.5, 0.5, 0.5, 0.5, 0.5, 0.5, 0.5, 0.5, 0.5,\n",
       "       0.5, 0.5, 0.5, 0.5, 0.5, 0.5, 0.5, 0.5, 0.5, 0.5])"
      ]
     },
     "execution_count": 30,
     "metadata": {},
     "output_type": "execute_result"
    }
   ],
   "source": [
    "LS"
   ]
  },
  {
   "cell_type": "code",
   "execution_count": null,
   "metadata": {},
   "outputs": [],
   "source": []
  }
 ],
 "metadata": {
  "kernelspec": {
   "display_name": "Python 3",
   "language": "python",
   "name": "python3"
  },
  "language_info": {
   "codemirror_mode": {
    "name": "ipython",
    "version": 3
   },
   "file_extension": ".py",
   "mimetype": "text/x-python",
   "name": "python",
   "nbconvert_exporter": "python",
   "pygments_lexer": "ipython3",
   "version": "3.6.5"
  }
 },
 "nbformat": 4,
 "nbformat_minor": 2
}
