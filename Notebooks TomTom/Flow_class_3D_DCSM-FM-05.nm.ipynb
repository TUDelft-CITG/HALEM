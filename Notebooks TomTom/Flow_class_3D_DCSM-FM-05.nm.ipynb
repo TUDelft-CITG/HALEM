{
 "cells": [
  {
   "cell_type": "code",
   "execution_count": 1,
   "metadata": {},
   "outputs": [],
   "source": [
    "from collections import defaultdict\n",
    "import math\n",
    "import numpy as np\n",
    "from numpy import ma\n",
    "import datetime, time\n",
    "from datetime import datetime\n",
    "import netCDF4\n",
    "from netCDF4 import Dataset, num2date\n",
    "from scipy.interpolate import griddata\n",
    "\n",
    "import TomTom\n",
    "import TomTom.Mesh_maker as Mesh_maker\n",
    "import TomTom.Functions as Functions\n",
    "import TomTom.Calc_path as Calc_path\n",
    "\n",
    "import matplotlib.pyplot as plt\n",
    "plt.style.use('ggplot')\n",
    "% matplotlib inline\n",
    "\n",
    "import os\n",
    "from cartopy import config\n",
    "import cartopy.crs as ccrs\n",
    "import cartopy.feature as cfeature\n",
    "\n",
    "\n",
    "from scipy.spatial import Delaunay\n",
    "import pickle"
   ]
  },
  {
   "cell_type": "code",
   "execution_count": 2,
   "metadata": {},
   "outputs": [],
   "source": [
    "name = 'D:/3D-DCSM-FM/A08_newrgh_steric_dicoww_pieter/DCSM-FM_0_5nm_0017_map.nc'\n",
    "name_textfile_save = 'D:/3D-DCSM-FM/A08_newrgh_steric_dicoww_pieter/DCSM-FM_0_5nm_0017_map'\n",
    "nc = Dataset(name)"
   ]
  },
  {
   "cell_type": "code",
   "execution_count": 5,
   "metadata": {},
   "outputs": [
    {
     "name": "stdout",
     "output_type": "stream",
     "text": [
      "odict_keys(['mesh2d', 'wgs84', 'mesh2d_node_x', 'mesh2d_node_y', 'mesh2d_node_z', 'mesh2d_edge_x', 'mesh2d_edge_y', 'mesh2d_edge_x_bnd', 'mesh2d_edge_y_bnd', 'mesh2d_edge_nodes', 'mesh2d_face_nodes', 'mesh2d_edge_faces', 'mesh2d_face_x', 'mesh2d_face_y', 'mesh2d_face_x_bnd', 'mesh2d_face_y_bnd', 'mesh2d_layer_sigma', 'mesh2d_interface_sigma', 'mesh2d_edge_type', 'mesh2d_flowelem_ba', 'mesh2d_flowelem_bl', 'mesh2d_flowelem_domain', 'mesh2d_flowelem_globalnr', 'time', 'timestep', 'mesh2d_s1', 'mesh2d_waterdepth', 'mesh2d_ucx', 'mesh2d_ucy', 'mesh2d_ucz', 'mesh2d_ucxa', 'mesh2d_ucya', 'mesh2d_ucmag', 'mesh2d_ucmaga'])\n"
     ]
    }
   ],
   "source": [
    "print(nc.variables.keys())"
   ]
  },
  {
   "cell_type": "markdown",
   "metadata": {},
   "source": [
    "x = nc.variables['mesh2d_face_x'][:8000]\n",
    "y = nc.variables['mesh2d_face_y'][:8000]\n",
    "\n",
    "nodes = np.zeros((len(x),2))\n",
    "nodes[:,0] = y\n",
    "nodes[:,1] = x"
   ]
  },
  {
   "cell_type": "markdown",
   "metadata": {},
   "source": [
    "plt.plot(nodes[:,1], nodes[:,0], 'r.')"
   ]
  },
  {
   "cell_type": "code",
   "execution_count": 3,
   "metadata": {},
   "outputs": [],
   "source": [
    "class flow_3D_FM_05nm():\n",
    "    def __init__(self, name):\n",
    "        nc = Dataset(name)\n",
    "\n",
    "        t = nc.variables['time'][:]\n",
    "        t0 = \"22/12/2012 00:00:00\"\n",
    "        d = datetime.strptime(t0, \"%d/%m/%Y %H:%M:%S\")\n",
    "        t0 = d.timestamp()\n",
    "        self.t = t+t0\n",
    "        \n",
    "        x = nc.variables['mesh2d_face_x'][:8000]\n",
    "        y = nc.variables['mesh2d_face_y'][:8000]\n",
    "\n",
    "        self.nodes = np.zeros((len(x),2))\n",
    "        self.nodes[:,0] = y\n",
    "        self.nodes[:,1] = x\n",
    "\n",
    "        self.WD = nc.variables['mesh2d_waterdepth'][:,:8000]\n",
    "        self.u = nc.variables['mesh2d_ucx'][:,:8000, 0]\n",
    "        self.v = nc.variables['mesh2d_ucy'][:,:8000, 0]\n",
    "\n",
    "        self.tria = Delaunay(self.nodes)"
   ]
  },
  {
   "cell_type": "code",
   "execution_count": 5,
   "metadata": {},
   "outputs": [],
   "source": [
    "flow = flow_3D_FM_05nm(name)"
   ]
  },
  {
   "cell_type": "code",
   "execution_count": null,
   "metadata": {},
   "outputs": [],
   "source": [
    "TomTom.save_object(flow, name_textfile_save)"
   ]
  },
  {
   "cell_type": "markdown",
   "metadata": {},
   "source": [
    "zz = nc.variables['mesh2d_ucy']\n",
    "plt.plot(zz[10,6000,:],-np.arange(20))\n",
    "#plt.xlim(-0.1,0.1)"
   ]
  },
  {
   "cell_type": "markdown",
   "metadata": {},
   "source": [
    "zz = nc.variables['mesh2d_ucy']\n",
    "plt.plot(zz[10,4000,:],-np.arange(20))\n",
    "plt.xlim(-0.1,0.1)"
   ]
  },
  {
   "cell_type": "code",
   "execution_count": 3,
   "metadata": {},
   "outputs": [],
   "source": [
    "flow2 = Mesh_maker.flow_3D_FM_05nm_2(name_textfile_save)"
   ]
  },
  {
   "cell_type": "code",
   "execution_count": 6,
   "metadata": {},
   "outputs": [
    {
     "data": {
      "text/plain": [
       "<class 'netCDF4._netCDF4.Variable'>\n",
       "float64 time(time)\n",
       "    standard_name: time\n",
       "    units: seconds since 2011-12-22 00:00:00\n",
       "unlimited dimensions: time\n",
       "current shape = (2018,)\n",
       "filling on, default _FillValue of 9.969209968386869e+36 used"
      ]
     },
     "execution_count": 6,
     "metadata": {},
     "output_type": "execute_result"
    }
   ],
   "source": [
    "nc.variables['time']"
   ]
  },
  {
   "cell_type": "code",
   "execution_count": 9,
   "metadata": {},
   "outputs": [
    {
     "data": {
      "text/plain": [
       "array([ 2.12357475,  4.28306543,  3.16468103, ..., 28.10006547,\n",
       "       27.05293888, 25.86310285])"
      ]
     },
     "execution_count": 9,
     "metadata": {},
     "output_type": "execute_result"
    }
   ],
   "source": [
    "flow.WD[10]"
   ]
  },
  {
   "cell_type": "code",
   "execution_count": 12,
   "metadata": {},
   "outputs": [
    {
     "data": {
      "text/plain": [
       "(8000, 2)"
      ]
     },
     "execution_count": 12,
     "metadata": {},
     "output_type": "execute_result"
    }
   ],
   "source": [
    "flow.nodes.shape"
   ]
  },
  {
   "cell_type": "code",
   "execution_count": 13,
   "metadata": {},
   "outputs": [
    {
     "data": {
      "text/plain": [
       "(2018, 8000)"
      ]
     },
     "execution_count": 13,
     "metadata": {},
     "output_type": "execute_result"
    }
   ],
   "source": [
    "flow.u.shape"
   ]
  },
  {
   "cell_type": "code",
   "execution_count": 14,
   "metadata": {},
   "outputs": [
    {
     "data": {
      "text/plain": [
       "(2018, 8000)"
      ]
     },
     "execution_count": 14,
     "metadata": {},
     "output_type": "execute_result"
    }
   ],
   "source": [
    "flow.WD.shape"
   ]
  },
  {
   "cell_type": "code",
   "execution_count": null,
   "metadata": {},
   "outputs": [],
   "source": []
  }
 ],
 "metadata": {
  "kernelspec": {
   "display_name": "Python 3",
   "language": "python",
   "name": "python3"
  },
  "language_info": {
   "codemirror_mode": {
    "name": "ipython",
    "version": 3
   },
   "file_extension": ".py",
   "mimetype": "text/x-python",
   "name": "python",
   "nbconvert_exporter": "python",
   "pygments_lexer": "ipython3",
   "version": "3.6.5"
  }
 },
 "nbformat": 4,
 "nbformat_minor": 2
}
