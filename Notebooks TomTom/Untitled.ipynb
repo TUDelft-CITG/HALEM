{
 "cells": [
  {
   "cell_type": "code",
   "execution_count": 1,
   "metadata": {},
   "outputs": [
    {
     "name": "stdout",
     "output_type": "stream",
     "text": [
      "b'Hello Python!\\n'\n",
      "b'Hello'\n",
      "b'Hello  world!\\n'\n"
     ]
    }
   ],
   "source": [
    "import mmap\n",
    "\n",
    "# write a simple example file\n",
    "with open(\"hello.txt\", \"wb\") as f:\n",
    "    f.write(b\"Hello Python!\\n\")\n",
    "\n",
    "with open(\"hello.txt\", \"r+b\") as f:\n",
    "    # memory-map the file, size 0 means whole file\n",
    "    mm = mmap.mmap(f.fileno(), 0)\n",
    "    # read content via standard file methods\n",
    "    print(mm.readline())  # prints b\"Hello Python!\\n\"\n",
    "    # read content via slice notation\n",
    "    print(mm[:5])  # prints b\"Hello\"\n",
    "    # update content using slice notation;\n",
    "    # note that new content must have same size\n",
    "    mm[6:] = b\" world!\\n\"\n",
    "    # ... and read again using standard file methods\n",
    "    mm.seek(0)\n",
    "    print(mm.readline())  # prints b\"Hello  world!\\n\"\n",
    "    # close the map\n",
    "    mm.close()"
   ]
  },
  {
   "cell_type": "code",
   "execution_count": null,
   "metadata": {},
   "outputs": [],
   "source": []
  }
 ],
 "metadata": {
  "kernelspec": {
   "display_name": "Python 3",
   "language": "python",
   "name": "python3"
  },
  "language_info": {
   "codemirror_mode": {
    "name": "ipython",
    "version": 3
   },
   "file_extension": ".py",
   "mimetype": "text/x-python",
   "name": "python",
   "nbconvert_exporter": "python",
   "pygments_lexer": "ipython3",
   "version": "3.6.5"
  }
 },
 "nbformat": 4,
 "nbformat_minor": 2
}
