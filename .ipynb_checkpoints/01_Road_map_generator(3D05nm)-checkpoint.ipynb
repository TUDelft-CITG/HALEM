{
 "cells": [
  {
   "cell_type": "code",
   "execution_count": 1,
   "metadata": {},
   "outputs": [],
   "source": [
    "from collections import defaultdict\n",
    "import math\n",
    "import numpy as np\n",
    "from numpy import ma\n",
    "import datetime, time\n",
    "from datetime import datetime\n",
    "import netCDF4\n",
    "from netCDF4 import Dataset, num2date\n",
    "from scipy.interpolate import griddata\n",
    "\n",
    "import TomTom\n",
    "import TomTom.Mesh_maker as Mesh_maker\n",
    "import TomTom.Functions as Functions\n",
    "import TomTom.Calc_path as Calc_path\n",
    "\n",
    "import matplotlib.pyplot as plt\n",
    "plt.style.use('ggplot')\n",
    "% matplotlib inline\n",
    "\n",
    "import os\n",
    "from cartopy import config\n",
    "import cartopy.crs as ccrs\n",
    "import cartopy.feature as cfeature"
   ]
  },
  {
   "cell_type": "markdown",
   "metadata": {},
   "source": [
    "# User defined values"
   ]
  },
  {
   "cell_type": "code",
   "execution_count": 2,
   "metadata": {},
   "outputs": [],
   "source": [
    "x_domain = (4.5,5.5)\n",
    "y_domain =(52.75,53.75)\n",
    "\n",
    "nl = (0.9,1)\n",
    "dx_min = 0.05\n",
    "blend = 0.8\n",
    "\n",
    "\n",
    "number_of_neighbor_layers = 1\n",
    "vship = np.array([6.8, \n",
    "                  7.0,\n",
    "                  7.2,\n",
    "                  7.4,\n",
    "                  7.6,\n",
    "                  7.8,\n",
    "                  8.0,\n",
    "                 ])\n",
    "WD_min = 1.5\n",
    "Load_flow = Mesh_maker.flow_2D_FM2\n",
    "\n",
    "name_textfile_flow = 'D:/3D-DCSM-FM/A08_newrgh_steric_dicoww_pieter/DCSM-FM_0_5nm_0017_map.nc'\n",
    "name_textfile_save = 'D:/3D-DCSM-FM/A08_newrgh_steric_dicoww_pieter/Rm_{}_Neightbourlayers={},WD_min={}'.format(name_textfile_flow, number_of_neighbor_layers,WD_min)"
   ]
  },
  {
   "cell_type": "code",
   "execution_count": 3,
   "metadata": {},
   "outputs": [
    {
     "name": "stdout",
     "output_type": "stream",
     "text": [
      "1/4\n",
      "0 8.0\n",
      "1 8.0\n",
      "2 8.0\n",
      "3 8.0\n",
      "4 8.0\n",
      "5 8.0\n",
      "6 8.0\n",
      "7 8.0\n"
     ]
    },
    {
     "ename": "MemoryError",
     "evalue": "",
     "output_type": "error",
     "traceback": [
      "\u001b[1;31m---------------------------------------------------------------------------\u001b[0m",
      "\u001b[1;31mMemoryError\u001b[0m                               Traceback (most recent call last)",
      "\u001b[1;32m<ipython-input-3-90971bb1bde0>\u001b[0m in \u001b[0;36m<module>\u001b[1;34m()\u001b[0m\n\u001b[0;32m      8\u001b[0m                                     \u001b[0mvship\u001b[0m\u001b[1;33m,\u001b[0m\u001b[1;33m\u001b[0m\u001b[0m\n\u001b[0;32m      9\u001b[0m                                     \u001b[0mLoad_flow\u001b[0m\u001b[1;33m,\u001b[0m\u001b[1;33m\u001b[0m\u001b[0m\n\u001b[1;32m---> 10\u001b[1;33m                                     \u001b[0mWD_min\u001b[0m\u001b[1;33m\u001b[0m\u001b[0m\n\u001b[0m\u001b[0;32m     11\u001b[0m                                    )\n\u001b[0;32m     12\u001b[0m \u001b[1;33m\u001b[0m\u001b[0m\n",
      "\u001b[1;32m~\\OneDrive - Van Oord\\Route_optimization_in_dynamic_currents\\TomTom\\Mesh_maker.py\u001b[0m in \u001b[0;36m__init__\u001b[1;34m(self, name_textfile_flow, dx_min, blend, nl, number_of_neighbor_layers, vship, Load_flow, WD_min)\u001b[0m\n\u001b[0;32m    383\u001b[0m         \u001b[0mself\u001b[0m\u001b[1;33m.\u001b[0m\u001b[0mnodes\u001b[0m \u001b[1;33m=\u001b[0m \u001b[0mflow\u001b[0m\u001b[1;33m.\u001b[0m\u001b[0mnodes\u001b[0m\u001b[1;33m[\u001b[0m\u001b[0mself\u001b[0m\u001b[1;33m.\u001b[0m\u001b[0mnodes_index\u001b[0m\u001b[1;33m]\u001b[0m\u001b[1;33m\u001b[0m\u001b[0m\n\u001b[0;32m    384\u001b[0m \u001b[1;33m\u001b[0m\u001b[0m\n\u001b[1;32m--> 385\u001b[1;33m         \u001b[0mself\u001b[0m\u001b[1;33m.\u001b[0m\u001b[0mu\u001b[0m \u001b[1;33m=\u001b[0m \u001b[0mnp\u001b[0m\u001b[1;33m.\u001b[0m\u001b[0masarray\u001b[0m\u001b[1;33m(\u001b[0m\u001b[0mnp\u001b[0m\u001b[1;33m.\u001b[0m\u001b[0mtranspose\u001b[0m\u001b[1;33m(\u001b[0m\u001b[0mflow\u001b[0m\u001b[1;33m.\u001b[0m\u001b[0mu\u001b[0m\u001b[1;33m)\u001b[0m\u001b[1;33m)\u001b[0m\u001b[1;33m[\u001b[0m\u001b[0mself\u001b[0m\u001b[1;33m.\u001b[0m\u001b[0mnodes_index\u001b[0m\u001b[1;33m]\u001b[0m\u001b[1;33m\u001b[0m\u001b[0m\n\u001b[0m\u001b[0;32m    386\u001b[0m         \u001b[0mself\u001b[0m\u001b[1;33m.\u001b[0m\u001b[0mv\u001b[0m \u001b[1;33m=\u001b[0m \u001b[0mnp\u001b[0m\u001b[1;33m.\u001b[0m\u001b[0masarray\u001b[0m\u001b[1;33m(\u001b[0m\u001b[0mnp\u001b[0m\u001b[1;33m.\u001b[0m\u001b[0mtranspose\u001b[0m\u001b[1;33m(\u001b[0m\u001b[0mflow\u001b[0m\u001b[1;33m.\u001b[0m\u001b[0mv\u001b[0m\u001b[1;33m)\u001b[0m\u001b[1;33m)\u001b[0m\u001b[1;33m[\u001b[0m\u001b[0mself\u001b[0m\u001b[1;33m.\u001b[0m\u001b[0mnodes_index\u001b[0m\u001b[1;33m]\u001b[0m\u001b[1;33m\u001b[0m\u001b[0m\n\u001b[0;32m    387\u001b[0m         \u001b[0mself\u001b[0m\u001b[1;33m.\u001b[0m\u001b[0mWD\u001b[0m \u001b[1;33m=\u001b[0m \u001b[0mnp\u001b[0m\u001b[1;33m.\u001b[0m\u001b[0masarray\u001b[0m\u001b[1;33m(\u001b[0m\u001b[0mnp\u001b[0m\u001b[1;33m.\u001b[0m\u001b[0mtranspose\u001b[0m\u001b[1;33m(\u001b[0m\u001b[0mflow\u001b[0m\u001b[1;33m.\u001b[0m\u001b[0mWD\u001b[0m\u001b[1;33m)\u001b[0m\u001b[1;33m)\u001b[0m\u001b[1;33m[\u001b[0m\u001b[0mself\u001b[0m\u001b[1;33m.\u001b[0m\u001b[0mnodes_index\u001b[0m\u001b[1;33m]\u001b[0m\u001b[1;33m\u001b[0m\u001b[0m\n",
      "\u001b[1;31mMemoryError\u001b[0m: "
     ]
    }
   ],
   "source": [
    "start_time = time.time()\n",
    "\n",
    "graph = Mesh_maker.Graph_flow_model(name_textfile_flow, \n",
    "                                    dx_min, \n",
    "                                    blend, \n",
    "                                    nl, \n",
    "                                    number_of_neighbor_layers, \n",
    "                                    vship, \n",
    "                                    Load_flow, \n",
    "                                    WD_min\n",
    "                                   )\n",
    "\n",
    "stop_time = time.time()\n",
    "computation_time = stop_time - start_time\n",
    "print(\"the computational time is:\", round(computation_time,2), \"sec\")"
   ]
  },
  {
   "cell_type": "code",
   "execution_count": null,
   "metadata": {},
   "outputs": [],
   "source": [
    "TomTom.save_object(graph, name_textfile_save)"
   ]
  },
  {
   "cell_type": "markdown",
   "metadata": {},
   "source": [
    "# Plots"
   ]
  },
  {
   "cell_type": "code",
   "execution_count": null,
   "metadata": {},
   "outputs": [],
   "source": [
    "x_r = np.arange(3,7, 0.001)\n",
    "y_r = np.arange(52,55, 0.01)\n",
    "y_r, x_r = np.meshgrid(y_r,x_r)\n",
    "\n",
    "#LS_r = griddata((graph.nodes[:,1], graph.nodes[:,0]), graph.LS, (x_r, y_r), method= 'linear')\n",
    "WD_r = griddata((graph.nodes[:,1], graph.nodes[:,0]), graph.WD[:,37], (x_r, y_r), method= 'linear')"
   ]
  },
  {
   "cell_type": "code",
   "execution_count": null,
   "metadata": {},
   "outputs": [],
   "source": [
    "fig = plt.figure(figsize=(15, 15))\n",
    "ax = plt.axes(projection=ccrs.Mercator())\n",
    "\n",
    "#cval = np.arange(0,1, 0.01)\n",
    "#plt.contourf(x_r,y_r, LS_r, cval)\n",
    "#cbar = plt.colorbar()\n",
    "\n",
    "plt.triplot(graph.nodes[:,1], graph.nodes[:,0], graph.tria.simplices, linewidth = 0.5, color = 'k', label = 'Delauney edges')\n",
    "#plt.ylim(52,55)\n",
    "#plt.xlim(2,7)\n",
    "plt.xlim(4.5,5.5)\n",
    "plt.ylim(52.7,53.7)"
   ]
  },
  {
   "cell_type": "code",
   "execution_count": null,
   "metadata": {},
   "outputs": [],
   "source": [
    "curl = np.arange(0,100,0.001)\n",
    "def LS(nonlinearity):\n",
    "    LS = 1/(1+curl)**nonlinearity\n",
    "    return LS\n",
    "\n",
    "fig = plt.figure()\n",
    "fig.set_size_inches(6, 6)\n",
    "plt.semilogx(curl, LS(0), label = r'$\\beta =  0$')\n",
    "plt.semilogx(curl, LS(1), label = r'$\\beta =  1$')\n",
    "plt.semilogx(curl, LS(5), label = r'$\\beta =  5$')\n",
    "plt.semilogx(curl, LS(10), label = r'$\\beta =  10$')\n",
    "plt.semilogx(curl, LS(20), label = r'$\\beta =  20$')\n",
    "plt.semilogx(curl, LS(np.inf), label = r'$\\beta =  infinite$')\n",
    "\n",
    "plt.title(\"influence of the nonlinearity on the length scale, \\n LS = 1/(1+curl)^nonlinearity\")\n",
    "plt.xlabel(\"Absolute value of the curl or magnitude of the flow (on log scale)\")\n",
    "plt.ylabel(\"Length scale for different nonlinearities\")\n",
    "\n",
    "plt.legend(loc = 'best')\n",
    "#plt.savefig(\"Influence_of_nonlinearity\", dpi = 200)\n",
    "plt.show()"
   ]
  },
  {
   "cell_type": "code",
   "execution_count": null,
   "metadata": {},
   "outputs": [],
   "source": [
    "fig = plt.figure(figsize=(15, 15))\n",
    "ax = plt.axes(projection=ccrs.Mercator())\n",
    "\n",
    "cval = np.arange(1.5,50, 0.5)\n",
    "plt.contourf(x_r,y_r, WD_r, cval)\n",
    "cbar = plt.colorbar()\n",
    "\n",
    "plt.plot(graph.nodes[:,1],graph.nodes[:,0],'r.')\n",
    "#plt.ylim(52,55)\n",
    "#plt.xlim(2,7)\n",
    "plt.xlim(4.5,5.5)\n",
    "plt.ylim(52.7,53.7)\n",
    "\n",
    "print(len(graph.nodes)**0.5)"
   ]
  },
  {
   "cell_type": "code",
   "execution_count": null,
   "metadata": {},
   "outputs": [],
   "source": [
    "len(graph.nodes) ** 0.5"
   ]
  },
  {
   "cell_type": "code",
   "execution_count": null,
   "metadata": {},
   "outputs": [],
   "source": [
    "fig = plt.figure(figsize=(15, 15))\n",
    "ax = plt.axes(projection=ccrs.Mercator())\n",
    "\n",
    "cval = np.arange(1.5,20, 0.5)\n",
    "plt.contourf(x_r,y_r, WD_r, cval)\n",
    "cbar = plt.colorbar()\n",
    "\n",
    "plt.plot(graph.nodes[:,1],graph.nodes[:,0],'r.')\n",
    "#plt.ylim(52,55)\n",
    "#plt.xlim(2,7)\n",
    "plt.xlim(4.5,5.5)\n",
    "plt.ylim(52.7,53.7)"
   ]
  },
  {
   "cell_type": "code",
   "execution_count": null,
   "metadata": {},
   "outputs": [],
   "source": []
  }
 ],
 "metadata": {
  "kernelspec": {
   "display_name": "Python 3",
   "language": "python",
   "name": "python3"
  },
  "language_info": {
   "codemirror_mode": {
    "name": "ipython",
    "version": 3
   },
   "file_extension": ".py",
   "mimetype": "text/x-python",
   "name": "python",
   "nbconvert_exporter": "python",
   "pygments_lexer": "ipython3",
   "version": "3.6.5"
  }
 },
 "nbformat": 4,
 "nbformat_minor": 2
}
