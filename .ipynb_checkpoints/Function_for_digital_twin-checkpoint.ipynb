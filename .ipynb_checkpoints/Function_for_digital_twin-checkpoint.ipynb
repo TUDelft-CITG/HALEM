{
 "cells": [
  {
   "cell_type": "code",
   "execution_count": 1,
   "metadata": {},
   "outputs": [],
   "source": [
    "import pickle\n",
    "import TomTom\n",
    "import numpy as np\n",
    "import matplotlib.pyplot as plt\n",
    "%matplotlib inline"
   ]
  },
  {
   "cell_type": "code",
   "execution_count": 2,
   "metadata": {},
   "outputs": [],
   "source": [
    "name_textfile_load = 'D:/DCSM-FM/A06_pieter/Roadmap_Neightbourlayers=1,Vship=0,WD_min=1.4'\n",
    "\n",
    "with open(name_textfile_load, 'rb') as input:\n",
    "    Roadmap = pickle.load(input)\\"
   ]
  },
  {
   "cell_type": "code",
   "execution_count": 3,
   "metadata": {},
   "outputs": [],
   "source": [
    "t0 = '01/07/2013 06:30:00'\n",
    "start = (53.049453, 5.044149)\n",
    "stop = (53.294684, 5.191655)\n",
    "vship = 5"
   ]
  },
  {
   "cell_type": "code",
   "execution_count": 4,
   "metadata": {},
   "outputs": [],
   "source": [
    "path, time = TomTom.RODFF_time(start, stop, t0, vship, Roadmap)"
   ]
  },
  {
   "cell_type": "code",
   "execution_count": 5,
   "metadata": {},
   "outputs": [
    {
     "data": {
      "text/plain": [
       "[<matplotlib.lines.Line2D at 0x209005229b0>]"
      ]
     },
     "execution_count": 5,
     "metadata": {},
     "output_type": "execute_result"
    },
    {
     "data": {
      "image/png": "[encoded data removed]",
      "text/plain": [
       "<Figure size 432x288 with 1 Axes>"
      ]
     },
     "metadata": {},
     "output_type": "display_data"
    }
   ],
   "source": [
    "plt.plot(path[:,1], path[:,0])\n",
    "plt.plot(path[:,1], path[:,0], 'r.')"
   ]
  },
  {
   "cell_type": "code",
   "execution_count": 6,
   "metadata": {},
   "outputs": [
    {
     "data": {
      "text/plain": [
       "array([1.37265300e+09, 1.37265320e+09, 1.37265341e+09, 1.37265362e+09,\n",
       "       1.37265392e+09, 1.37265412e+09, 1.37265442e+09, 1.37265473e+09,\n",
       "       1.37265493e+09, 1.37265523e+09, 1.37265553e+09, 1.37265573e+09,\n",
       "       1.37265602e+09, 1.37265624e+09, 1.37265646e+09, 1.37265668e+09,\n",
       "       1.37265689e+09, 1.37265710e+09, 1.37265730e+09, 1.37265750e+09,\n",
       "       1.37265770e+09, 1.37265790e+09, 1.37265809e+09, 1.37265829e+09,\n",
       "       1.37265848e+09, 1.37265868e+09, 1.37265888e+09, 1.37265907e+09,\n",
       "       1.37265926e+09, 1.37265945e+09, 1.37265963e+09, 1.37265982e+09,\n",
       "       1.37266001e+09, 1.37266020e+09, 1.37266047e+09, 1.37266067e+09])"
      ]
     },
     "execution_count": 6,
     "metadata": {},
     "output_type": "execute_result"
    }
   ],
   "source": [
    "time"
   ]
  }
 ],
 "metadata": {
  "kernelspec": {
   "display_name": "Python 3",
   "language": "python",
   "name": "python3"
  },
  "language_info": {
   "codemirror_mode": {
    "name": "ipython",
    "version": 3
   },
   "file_extension": ".py",
   "mimetype": "text/x-python",
   "name": "python",
   "nbconvert_exporter": "python",
   "pygments_lexer": "ipython3",
   "version": "3.6.5"
  }
 },
 "nbformat": 4,
 "nbformat_minor": 2
}
