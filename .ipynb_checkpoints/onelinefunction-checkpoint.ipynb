{
 "cells": [
  {
   "cell_type": "code",
   "execution_count": 1,
   "metadata": {},
   "outputs": [],
   "source": [
    "from collections import defaultdict\n",
    "import math\n",
    "import numpy as np\n",
    "from numpy import ma\n",
    "import datetime, time\n",
    "from datetime import datetime\n",
    "import netCDF4\n",
    "from netCDF4 import Dataset, num2date\n",
    "from scipy.interpolate import griddata\n",
    "\n",
    "import matplotlib.pyplot as plt\n",
    "plt.style.use('ggplot')\n",
    "% matplotlib inline\n",
    "\n",
    "import os\n",
    "from cartopy import config\n",
    "import cartopy.crs as ccrs\n",
    "import cartopy.feature as cfeature\n",
    "\n",
    "from scipy.spatial import Delaunay\n",
    "import pickle\n",
    "\n",
    "import TomTom\n",
    "import TomTom.Mesh_maker as Mesh_maker\n",
    "import TomTom.Functions as Functions\n",
    "import TomTom.Calc_path as Calc_path"
   ]
  },
  {
   "cell_type": "code",
   "execution_count": 2,
   "metadata": {},
   "outputs": [],
   "source": [
    "name_textfile_load = 'D:/DCSM-FM/A06_pieter/Roadmap_Neightbourlayers=1,Vship=0,WD_min=1.4'\n",
    "\n",
    "with open(name_textfile_load, 'rb') as input:\n",
    "    Roadmap = pickle.load(input)"
   ]
  },
  {
   "cell_type": "code",
   "execution_count": 3,
   "metadata": {},
   "outputs": [
    {
     "data": {
      "text/plain": [
       "[<matplotlib.lines.Line2D at 0x14e92e49e48>]"
      ]
     },
     "execution_count": 3,
     "metadata": {},
     "output_type": "execute_result"
    },
    {
     "data": {
      "image/png": "[encoded data removed]",
      "text/plain": [
       "<Figure size 432x288 with 1 Axes>"
      ]
     },
     "metadata": {},
     "output_type": "display_data"
    }
   ],
   "source": [
    "t0 = '01/07/2013 06:30:00'\n",
    "start = (5.044149, 53.049453)\n",
    "stop = (5.191655, 53.294684)\n",
    "vship = 2\n",
    "\n",
    "path, time, dist = TomTom.RODFF_time(start, stop, t0, vship, Roadmap)\n",
    "\n",
    "\n",
    "plt.plot(path[:,0], path[:,1])\n",
    "plt.plot(path[:,0], path[:,1], 'r.')"
   ]
  },
  {
   "cell_type": "code",
   "execution_count": 4,
   "metadata": {},
   "outputs": [
    {
     "data": {
      "text/plain": [
       "array([2.5, 4.5])"
      ]
     },
     "execution_count": 4,
     "metadata": {},
     "output_type": "execute_result"
    }
   ],
   "source": [
    "Roadmap.vship"
   ]
  },
  {
   "cell_type": "code",
   "execution_count": 5,
   "metadata": {},
   "outputs": [
    {
     "data": {
      "text/plain": [
       "array([  835.83255114,  1671.66510228,  2919.70315825,  3755.37410701,\n",
       "        4591.04505578,  5426.71600454,  6262.3869533 ,  7510.3167917 ,\n",
       "        8345.82612041,  9181.33544912, 10016.84477783, 10852.35410654,\n",
       "       11687.86343525, 23047.02310447, 23973.90929256, 24900.79548065,\n",
       "       25827.68166874, 26754.56785683, 27681.45404493, 28927.54414782,\n",
       "       30173.52602934, 31100.41221743, 32346.17765584, 33591.83487251,\n",
       "       34837.38386737, 36082.82464032, 37328.15719129, 38159.78234429,\n",
       "       39405.00667319, 40236.4697653 , 41067.93285741, 42313.0489642 ,\n",
       "       43558.05684883, 44389.1957664 , 45634.09542881, 46465.07223275,\n",
       "       47296.04903668, 48540.84047685, 49371.65514956, 50616.33836746,\n",
       "       51446.99089138, 52277.6434153 , 53108.29593922, 53938.94846315,\n",
       "       54769.60098707, 55600.25351099, 56430.90603491, 57261.55855883,\n",
       "       58092.21108275, 59336.89430065, 60263.78048874, 61094.75729268])"
      ]
     },
     "execution_count": 5,
     "metadata": {},
     "output_type": "execute_result"
    }
   ],
   "source": [
    "dist"
   ]
  },
  {
   "cell_type": "code",
   "execution_count": null,
   "metadata": {},
   "outputs": [],
   "source": []
  }
 ],
 "metadata": {
  "kernelspec": {
   "display_name": "Python 3",
   "language": "python",
   "name": "python3"
  },
  "language_info": {
   "codemirror_mode": {
    "name": "ipython",
    "version": 3
   },
   "file_extension": ".py",
   "mimetype": "text/x-python",
   "name": "python",
   "nbconvert_exporter": "python",
   "pygments_lexer": "ipython3",
   "version": "3.6.5"
  }
 },
 "nbformat": 4,
 "nbformat_minor": 2
}
