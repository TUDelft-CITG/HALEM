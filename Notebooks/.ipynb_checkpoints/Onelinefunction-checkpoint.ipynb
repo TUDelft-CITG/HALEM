{
 "cells": [
  {
   "cell_type": "code",
   "execution_count": 1,
   "metadata": {},
   "outputs": [],
   "source": [
    "from collections import defaultdict\n",
    "import math\n",
    "import numpy as np\n",
    "from numpy import ma\n",
    "import datetime, time\n",
    "from datetime import datetime\n",
    "import netCDF4\n",
    "from netCDF4 import Dataset, num2date\n",
    "from scipy.interpolate import griddata\n",
    "\n",
    "import matplotlib.pyplot as plt\n",
    "plt.style.use('ggplot')\n",
    "% matplotlib inline\n",
    "\n",
    "import os\n",
    "from cartopy import config\n",
    "import cartopy.crs as ccrs\n",
    "import cartopy.feature as cfeature\n",
    "\n",
    "from scipy.spatial import Delaunay\n",
    "import pickle\n",
    "\n",
    "import halem\n",
    "import halem.Mesh_maker as Mesh_maker\n",
    "import halem.Calc_path as Calc_path\n",
    "import halem.Functions as Functions\n",
    "\n",
    "import datetime, time\n",
    "import platform\n",
    "\n",
    "\n",
    "import simpy\n",
    "\n",
    "import shapely.geometry\n",
    "from simplekml import Kml, Style\n",
    "\n",
    "import numpy as np\n",
    "\n",
    "timeQ = time"
   ]
  },
  {
   "cell_type": "code",
   "execution_count": 2,
   "metadata": {},
   "outputs": [],
   "source": [
    "name_textfile_load = 'D:/Roadmaps/Rm_DCSM_zuno_WDmin=1.5,nl=(1, 1)'\n",
    "\n",
    "with open(name_textfile_load, 'rb') as input:\n",
    "    Roadmap = pickle.load(input)"
   ]
  },
  {
   "cell_type": "code",
   "execution_count": 3,
   "metadata": {},
   "outputs": [],
   "source": [
    "t0 = '01/07/2013 16:00:00'\n",
    "start = (52.979669, 4.755589)\n",
    "stop = (53.331927, 5.125379)\n",
    "\n",
    "vmax = 8"
   ]
  },
  {
   "cell_type": "code",
   "execution_count": 8,
   "metadata": {},
   "outputs": [],
   "source": [
    "path, time, dist = halem.HALEM_time(start[::-1], stop[::-1], t0, vmax, Roadmap)"
   ]
  },
  {
   "cell_type": "code",
   "execution_count": 12,
   "metadata": {},
   "outputs": [
    {
     "data": {
      "text/plain": [
       "array([  266.28643811,  1393.5461359 ,  2763.44623554,  4270.52624171,\n",
       "        6181.25437567,  7894.50387643,  8793.21376241, 11121.91604348,\n",
       "       13648.33692239, 15213.49335169, 17775.93652838, 19565.34978732,\n",
       "       20334.08505171, 22152.22557217, 23248.83376   , 25302.90457459,\n",
       "       26720.27873781, 27470.4768022 , 28970.30230353, 30739.90454814,\n",
       "       32899.74621927, 34424.14663155, 35558.21097236, 36699.29796498,\n",
       "       37489.05823136, 38756.79629486, 39818.34173724, 40433.60064218,\n",
       "       41543.27363018, 42079.25230805, 42958.98813267, 44159.35671934,\n",
       "       45144.67594508, 45581.33480363, 46615.038972  , 47710.13660066,\n",
       "       48787.43765797, 49757.64963515, 50357.23648628, 50958.88276865,\n",
       "       51810.97646297, 53010.84675395, 53637.03276223])"
      ]
     },
     "execution_count": 12,
     "metadata": {},
     "output_type": "execute_result"
    }
   ],
   "source": []
  },
  {
   "cell_type": "code",
   "execution_count": null,
   "metadata": {},
   "outputs": [],
   "source": []
  }
 ],
 "metadata": {
  "kernelspec": {
   "display_name": "Python 3",
   "language": "python",
   "name": "python3"
  },
  "language_info": {
   "codemirror_mode": {
    "name": "ipython",
    "version": 3
   },
   "file_extension": ".py",
   "mimetype": "text/x-python",
   "name": "python",
   "nbconvert_exporter": "python",
   "pygments_lexer": "ipython3",
   "version": "3.6.5"
  }
 },
 "nbformat": 4,
 "nbformat_minor": 2
}
