{
 "cells": [
  {
   "cell_type": "code",
   "execution_count": 1,
   "metadata": {},
   "outputs": [],
   "source": [
    "from collections import defaultdict\n",
    "import math\n",
    "import numpy as np\n",
    "from numpy import ma\n",
    "import datetime, time\n",
    "from datetime import datetime\n",
    "import netCDF4\n",
    "from netCDF4 import Dataset, num2date\n",
    "\n",
    "import RODFF\n",
    "import RODFF.Mesh_maker as Mesh_maker\n",
    "import RODFF.Functions as Functions\n",
    "import RODFF.Calc_path as Calc_path\n",
    "\n",
    "from matplotlib import pyplot as plt\n",
    "from matplotlib import animation\n",
    "from matplotlib import gridspec as gridspec\n",
    "plt.style.use('ggplot')\n",
    "%matplotlib inline\n",
    "\n",
    "import pickle\n",
    "from scipy.interpolate import griddata\n",
    "import os\n",
    "from cartopy import config\n",
    "import cartopy.crs as ccrs\n",
    "import cartopy.feature as cfeature"
   ]
  },
  {
   "cell_type": "markdown",
   "metadata": {},
   "source": [
    "# Load road map"
   ]
  },
  {
   "cell_type": "code",
   "execution_count": 3,
   "metadata": {},
   "outputs": [],
   "source": [
    "name_textfile_load = 'D:/DCSM-FM/A06_pieter/Roadmap_Neightbourlayers=1,Vship=0,WD_min=1_4'\n",
    "\n",
    "with open(name_textfile_load, 'rb') as input:\n",
    "    Roadmap = pickle.load(input)\\"
   ]
  },
  {
   "cell_type": "markdown",
   "metadata": {},
   "source": [
    "# User defined parameters"
   ]
  },
  {
   "cell_type": "code",
   "execution_count": null,
   "metadata": {},
   "outputs": [],
   "source": [
    "t0 = '01/07/2013 06:30:00'          #Departure time  omslagpunt = 7:20\n",
    "#t0 = '01/07/2013 16:00:00'\n",
    "\n",
    "start = (53.049453, 5.044149)\n",
    "stop = (53.294684, 5.191655)\n",
    "vship = 5"
   ]
  },
  {
   "cell_type": "code",
   "execution_count": null,
   "metadata": {},
   "outputs": [],
   "source": [
    "vv= np.abs(Roadmap.vship - vship)\n",
    "arg_vship = int(np.argwhere(vv == vv.min()))\n",
    "print(\"V_ship = \", Roadmap.vship[arg_vship])\n",
    "\n",
    "class graph_functions_time:\n",
    "    function_type = \"time optimalisation\"\n",
    "    weights = Roadmap.weight_time[arg_vship].weights\n",
    "    time = Roadmap.weight_time[arg_vship].weights\n",
    "    \n",
    "class graph_functions_space:\n",
    "    function_type = \"length optimalisation\"\n",
    "    weights = Roadmap.weight_space[arg_vship].weights\n",
    "    time = Roadmap.weight_time[arg_vship].weights"
   ]
  },
  {
   "cell_type": "markdown",
   "metadata": {},
   "source": [
    "# Calculation"
   ]
  },
  {
   "cell_type": "code",
   "execution_count": null,
   "metadata": {},
   "outputs": [],
   "source": [
    "start_time = time.time()\n",
    "\n",
    "route_time = Calc_path.Has_route(start, stop, Roadmap, t0, graph_functions_time)\n",
    "route_space = Calc_path.Has_route(start, stop, Roadmap, t0, graph_functions_space)\n",
    "\n",
    "stop_time = time.time()\n",
    "computation_time = stop_time - start_time\n",
    "print(\"the computational time is:\", round(computation_time,2), \"sec\")"
   ]
  },
  {
   "cell_type": "markdown",
   "metadata": {},
   "source": [
    "# Post processing"
   ]
  },
  {
   "cell_type": "code",
   "execution_count": null,
   "metadata": {},
   "outputs": [],
   "source": [
    "x_r = np.arange(3,7, 0.01)\n",
    "y_r = np.arange(52,55, 0.01)\n",
    "y_r, x_r = np.meshgrid(y_r,x_r)\n",
    "\n",
    "LS_r = griddata((Roadmap.flow.nodes[:,1], Roadmap.flow.nodes[:,0]), Roadmap.flow.WD[73], (x_r, y_r), method= 'linear')"
   ]
  },
  {
   "cell_type": "code",
   "execution_count": null,
   "metadata": {
    "scrolled": false
   },
   "outputs": [],
   "source": [
    "fig = plt.figure(figsize=(10, 10))\n",
    "gs = gridspec.GridSpec(2, 2)\n",
    "\n",
    "\n",
    "ax = plt.subplot(gs[0, 0:2], projection=ccrs.Mercator())\n",
    "\n",
    "cval = np.arange(1.5,20, 0.5)\n",
    "plt.contourf(x_r,y_r, LS_r, cval, zorder = 1, transform=ccrs.PlateCarree())\n",
    "cbar = plt.colorbar()\n",
    "cbar.set_label('Depth [m]')\n",
    "\n",
    "plt.plot(route_space.x_route, route_space.y_route, 'y.', transform=ccrs.PlateCarree(), markersize = 5, label = 'Shortest Route')\n",
    "plt.plot(route_time.x_route, route_time.y_route, 'm.', transform=ccrs.PlateCarree(), markersize = 5, label = 'Fastest Route')\n",
    "\n",
    "ax.coastlines(resolution='10m', color='black', linewidth=1)\n",
    "ax.gridlines(color = 'grey', zorder = 3)\n",
    "\n",
    "ax.add_feature(cfeature.NaturalEarthFeature('physical', 'land', '10m', edgecolor='face', facecolor='palegoldenrod'))\n",
    "t = route_time.route[:,2][-1]\n",
    "perc = ((route_space.route[:,1][-1] - route_space.route[:,1][0]) - (route_time.route[:,1][-1] - route_time.route[:,1][0]))/ (route_space.route[:,1][-1] - route_space.route[:,1][0])*100\n",
    "plt.title(\"Fastest route is {} hours and {} minutes, \\n Shorest route is {} km long,\\n Fasest route is {} % faster than the shortest route, \\n Ship speed is {} m/s \\n\"\n",
    "             .format(int(t/3600), int((t-int(t/3600)*3600)/60),np.round(route_space.route[:,2][-1]/1000, 2), np.round(perc,2),vship))\n",
    "\n",
    "ax.set_extent([4.5, 5.5, 53, 53.4])\n",
    "plt.legend(loc = 'best')\n",
    "\n",
    "\n",
    "plt.subplot(gs[1, 0])\n",
    "TomTom.plot_timeseries(route_space, Roadmap)\n",
    "plt.title('s/t Diagram \\n Shortest Route')\n",
    "\n",
    "plt.subplot(gs[1, 1])\n",
    "TomTom.plot_timeseries(route_time, Roadmap)\n",
    "plt.title('s/t Diagram \\n Fasest Route')\n",
    "\n",
    "plt.show()\n"
   ]
  },
  {
   "cell_type": "code",
   "execution_count": null,
   "metadata": {},
   "outputs": [],
   "source": [
    "Roadmap.nodes.shape"
   ]
  },
  {
   "cell_type": "code",
   "execution_count": 4,
   "metadata": {},
   "outputs": [
    {
     "data": {
      "text/plain": [
       "(3427, 2018)"
      ]
     },
     "execution_count": 4,
     "metadata": {},
     "output_type": "execute_result"
    }
   ],
   "source": [
    "Roadmap.u.shape"
   ]
  },
  {
   "cell_type": "code",
   "execution_count": null,
   "metadata": {},
   "outputs": [],
   "source": []
  }
 ],
 "metadata": {
  "kernelspec": {
   "display_name": "Python 3",
   "language": "python",
   "name": "python3"
  },
  "language_info": {
   "codemirror_mode": {
    "name": "ipython",
    "version": 3
   },
   "file_extension": ".py",
   "mimetype": "text/x-python",
   "name": "python",
   "nbconvert_exporter": "python",
   "pygments_lexer": "ipython3",
   "version": "3.6.5"
  }
 },
 "nbformat": 4,
 "nbformat_minor": 2
}
