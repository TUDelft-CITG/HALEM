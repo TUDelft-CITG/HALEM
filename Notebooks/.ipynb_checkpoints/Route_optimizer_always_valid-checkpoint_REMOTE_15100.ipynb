{
 "cells": [
  {
   "cell_type": "code",
   "execution_count": null,
   "metadata": {},
   "outputs": [],
   "source": [
    "import pickle\n",
    "import halem\n",
    "import datetime, time\n",
    "import numpy as np\n",
    "\n",
    "import matplotlib.pyplot as plt\n",
    "plt.style.use('ggplot')\n",
    "% matplotlib inline\n",
    "\"disable functions below if cartopy is unavailable\"\n",
    "from cartopy import config\n",
    "import cartopy.crs as ccrs\n",
    "import cartopy.feature as cfeature"
   ]
  },
  {
   "cell_type": "code",
   "execution_count": null,
   "metadata": {},
   "outputs": [],
   "source": [
    "name_textfile_load = 'D:/Roadmaps/Roadmap_tidal_anaysis'\n",
    "\n",
    "with open(name_textfile_load, 'rb') as input:\n",
    "    Roadmap = pickle.load(input)"
   ]
  },
  {
   "cell_type": "code",
   "execution_count": null,
   "metadata": {},
   "outputs": [],
   "source": [
    "#t0 = '26/06/2019 12:00:00'\n",
    "t0 = '24/06/2019 00:00:00'\n",
    "\n",
    "start =(4.788699, 52.970919)\n",
    "stop = (53.439645, 5.379979)[::-1]\n",
    "\n",
    "vmax = 8"
   ]
  },
  {
   "cell_type": "code",
   "execution_count": null,
   "metadata": {},
   "outputs": [],
   "source": [
    "path_t, time_t, dist_t = halem.HALEM_time(start, stop, t0, vmax, Roadmap)\n",
    "path_s, time_s, dist_s = halem.HALEM_space(start, stop, t0, vmax, Roadmap)\n",
    "path_c, time_c, dist_c = halem.HALEM_cost(start, stop, t0, vmax, Roadmap)"
   ]
  },
  {
   "cell_type": "code",
   "execution_count": null,
   "metadata": {},
   "outputs": [],
   "source": [
    "fig = plt.figure(figsize = (10,10))\n",
    "ax = plt.subplot(211, projection=ccrs.Mercator())\n",
    "ax.coastlines(resolution='10m', color='black', linewidth=3)\n",
    "ax.gridlines(color = 'grey', zorder = 3)\n",
    "ax.add_feature(cfeature.NaturalEarthFeature('physical', 'land', '10m', edgecolor='face', facecolor='palegoldenrod'))\n",
    "\n",
    "plt.plot(path_t[:,0], path_t[:,1],'.', transform=ccrs.PlateCarree(), label = 'fastest path')\n",
    "plt.plot(path_s[:,0], path_s[:,1],'.', transform=ccrs.PlateCarree(), label = 'shortests path')\n",
    "plt.plot(path_c[:,0], path_c[:,1],'.', transform=ccrs.PlateCarree(), label = 'cheapest path')\n",
    "plt.legend(loc='best')\n",
    "\n",
    "ax = plt.subplot(234)\n",
    "halem.plot_timeseries2(path_t, time_t, Roadmap, Color = 'tab:red')\n",
    "\n",
    "ax = plt.subplot(235)\n",
    "halem.plot_timeseries2(path_s, time_s, Roadmap, Color = 'tab:blue')\n",
    "\n",
    "ax = plt.subplot(236)\n",
    "halem.plot_timeseries2(path_c, time_c, Roadmap, Color = 'tab:purple')\n",
    "\n",
    "\n",
    "plt.show()"
   ]
  },
  {
   "cell_type": "code",
   "execution_count": null,
   "metadata": {},
   "outputs": [],
   "source": []
  }
 ],
 "metadata": {
  "kernelspec": {
   "display_name": "Python 3",
   "language": "python",
   "name": "python3"
  },
  "language_info": {
   "codemirror_mode": {
    "name": "ipython",
    "version": 3
   },
   "file_extension": ".py",
   "mimetype": "text/x-python",
   "name": "python",
   "nbconvert_exporter": "python",
   "pygments_lexer": "ipython3",
   "version": "3.6.5"
  }
 },
 "nbformat": 4,
 "nbformat_minor": 2
}
