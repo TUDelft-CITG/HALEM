{
 "cells": [
  {
   "cell_type": "code",
   "execution_count": 1,
   "metadata": {},
   "outputs": [],
   "source": [
    "from collections import defaultdict\n",
    "\n",
    "class Graph():\n",
    "    def __init__(self):\n",
    "        \"\"\"\n",
    "        self.edges is a dict of all possible next nodes\n",
    "        e.g. {'X': ['A', 'B', 'C', 'E'], ...}\n",
    "        self.weights has all the weights between two nodes,\n",
    "        with the two nodes as a tuple as the key\n",
    "        e.g. {('X', 'A'): 7, ('X', 'B'): 2, ...}\n",
    "        \"\"\"\n",
    "        self.edges = defaultdict(list)\n",
    "        self.weights = {}\n",
    "    \n",
    "    def add_edge(self, from_node, to_node, weight):\n",
    "        # Note: assumes edges are directional\n",
    "        self.edges[from_node].append(to_node)\n",
    "        self.weights[(from_node, to_node)] = weight"
   ]
  },
  {
   "cell_type": "code",
   "execution_count": 2,
   "metadata": {},
   "outputs": [],
   "source": [
    "graph = Graph()"
   ]
  },
  {
   "cell_type": "code",
   "execution_count": 12,
   "metadata": {},
   "outputs": [],
   "source": [
    "arc = [((1,1), (0,2),1),\n",
    "       ((1,1), (1,2),1),\n",
    "       ((1,1), (2,2),1),\n",
    "       ((0,2),(0,3),1),\n",
    "       ((1,2),(1,3),1),\n",
    "       ((2,2),(2,3),1),\n",
    "       ((0,3),(1,4),1),\n",
    "       ((),(),1),\n",
    "       ((),(),1),\n",
    "       ((),(),1),\n",
    "       ((),(),1),\n",
    "       ((),(),1),\n",
    "       \n",
    "       \n",
    "        ]\n",
    "\n",
    "for edge in edges:\n",
    "    graph.add_edge(*edge)"
   ]
  },
  {
   "cell_type": "code",
   "execution_count": 10,
   "metadata": {},
   "outputs": [],
   "source": [
    "def dijsktra(graph, initial, end):\n",
    "    # shortest paths is a dict of nodes\n",
    "    # whose value is a tuple of (previous node, weight)\n",
    "    shortest_paths = {initial: (None, 0)}\n",
    "    current_node = initial\n",
    "    visited = set()\n",
    "    \n",
    "    while current_node != end:\n",
    "        visited.add(current_node)\n",
    "        destinations = graph.edges[current_node]\n",
    "        weight_to_current_node = shortest_paths[current_node][1]\n",
    "\n",
    "        for next_node in destinations:\n",
    "            weight = graph.weights[(current_node, next_node)] + weight_to_current_node\n",
    "            if next_node not in shortest_paths:\n",
    "                shortest_paths[next_node] = (current_node, weight)\n",
    "            else:\n",
    "                current_shortest_weight = shortest_paths[next_node][1]\n",
    "                if current_shortest_weight > weight:\n",
    "                    shortest_paths[next_node] = (current_node, weight)\n",
    "        \n",
    "        next_destinations = {node: shortest_paths[node] for node in shortest_paths if node not in visited}\n",
    "        if not next_destinations:\n",
    "            return \"Route Not Possible\"\n",
    "        # next node is the destination with the lowest weight\n",
    "        current_node = min(next_destinations, key=lambda k: next_destinations[k][1])\n",
    "    \n",
    "    # Work back through destinations in shortest path\n",
    "    path = []\n",
    "    while current_node is not None:\n",
    "        path.append(current_node)\n",
    "        next_node = shortest_paths[current_node][0]\n",
    "        current_node = next_node\n",
    "    # Reverse path\n",
    "    path = path[::-1]\n",
    "    return path"
   ]
  },
  {
   "cell_type": "code",
   "execution_count": 11,
   "metadata": {},
   "outputs": [
    {
     "data": {
      "text/plain": [
       "['X', 'B', 'H', 'G', 'Y']"
      ]
     },
     "execution_count": 11,
     "metadata": {},
     "output_type": "execute_result"
    }
   ],
   "source": [
    "dijsktra(graph, 'X', 'Y')"
   ]
  },
  {
   "cell_type": "code",
   "execution_count": null,
   "metadata": {},
   "outputs": [],
   "source": []
  },
  {
   "cell_type": "code",
   "execution_count": null,
   "metadata": {},
   "outputs": [],
   "source": []
  }
 ],
 "metadata": {
  "kernelspec": {
   "display_name": "Python 3",
   "language": "python",
   "name": "python3"
  },
  "language_info": {
   "codemirror_mode": {
    "name": "ipython",
    "version": 3
   },
   "file_extension": ".py",
   "mimetype": "text/x-python",
   "name": "python",
   "nbconvert_exporter": "python",
   "pygments_lexer": "ipython3",
   "version": "3.6.5"
  }
 },
 "nbformat": 4,
 "nbformat_minor": 2
}
