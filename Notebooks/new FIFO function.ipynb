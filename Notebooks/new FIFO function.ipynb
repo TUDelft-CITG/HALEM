{
 "cells": [
  {
   "cell_type": "code",
   "execution_count": 1,
   "metadata": {},
   "outputs": [],
   "source": [
    "from collections import defaultdict\n",
    "import math\n",
    "import numpy as np\n",
    "from numpy import ma\n",
    "import datetime, time\n",
    "from datetime import datetime\n",
    "import netCDF4\n",
    "from netCDF4 import Dataset, num2date\n",
    "from scipy.interpolate import griddata\n",
    "\n",
    "import matplotlib.pyplot as plt\n",
    "plt.style.use('ggplot')\n",
    "% matplotlib inline\n",
    "\n",
    "import os\n",
    "from cartopy import config\n",
    "import cartopy.crs as ccrs\n",
    "import cartopy.feature as cfeature\n",
    "\n",
    "from scipy.spatial import Delaunay\n",
    "import pickle\n",
    "\n",
    "import halem\n",
    "import halem.Mesh_maker as Mesh_maker\n",
    "import halem.Calc_path as Calc_path\n",
    "import halem.Functions as Functions\n",
    "\n",
    "import datetime, time\n",
    "import platform\n",
    "\n",
    "\n",
    "import simpy\n",
    "\n",
    "import shapely.geometry\n",
    "from simplekml import Kml, Style\n",
    "\n",
    "import numpy as np\n",
    "\n",
    "import digital_twin.core as core\n",
    "import digital_twin.model as model\n",
    "import digital_twin.plot as plot\n",
    "from scipy.signal import argrelextrema\n",
    "\n",
    "timeQ = time"
   ]
  },
  {
   "cell_type": "code",
   "execution_count": 2,
   "metadata": {},
   "outputs": [],
   "source": [
    "name_textfile_load = 'test'\n",
    "\n",
    "with open(name_textfile_load, 'rb') as input:\n",
    "    Roadmap = pickle.load(input)"
   ]
  },
  {
   "cell_type": "code",
   "execution_count": 12,
   "metadata": {},
   "outputs": [],
   "source": [
    "N = 531\n",
    "N2 = 570"
   ]
  },
  {
   "cell_type": "code",
   "execution_count": 130,
   "metadata": {},
   "outputs": [],
   "source": [
    "def FIFO_maker(y):\n",
    "    y[y == np.inf ] = 10000000000\n",
    "    arg = np.squeeze(argrelextrema(y, np.less))\n",
    "    y_FIFO = y\n",
    "    if arg.shape == ():\n",
    "        loc = np.argwhere(y <= y[arg])[-2:]\n",
    "        if loc.shape == (2,1):\n",
    "            y_FIFO[int(loc[0]):int(loc[1])] = y[arg]\n",
    "        else:\n",
    "            None\n",
    "    else:\n",
    "        for a in arg:\n",
    "            loc = np.argwhere(y <= y[a])[-2:] \n",
    "            if loc.shape == (2,1):\n",
    "                y_FIFO[int(loc[0]):int(loc[1])] = y[a]\n",
    "            else:\n",
    "                None\n",
    "    return(y_FIFO)\n",
    "\n",
    "def FIFO_maker3(y,N1,N2):\n",
    "    #y[y == np.inf ] = 10000000000\n",
    "    arg = np.squeeze(argrelextrema(y, np.less))\n",
    "    y_FIFO = 1*y\n",
    "    if arg.shape == ():\n",
    "        loc = np.argwhere(y <= y[arg])[-2:]\n",
    "        if loc.shape == (2,1):\n",
    "            if True in N1[int(loc[0]):int(loc[1])]:\n",
    "                None\n",
    "            else:\n",
    "                y_FIFO[int(loc[0]):int(loc[1])] = y[arg]\n",
    "        else:\n",
    "            None\n",
    "    else:\n",
    "        for a in arg:\n",
    "            loc = np.argwhere(y <= y[a])[-2:] \n",
    "            if loc.shape == (2,1):\n",
    "                if True in N1[int(loc[0]):int(loc[1])]:\n",
    "                    None\n",
    "                else:\n",
    "                    y_FIFO[int(loc[0]):int(loc[1])] = y[a]\n",
    "            else:\n",
    "                None\n",
    "    return(y_FIFO)"
   ]
  },
  {
   "cell_type": "code",
   "execution_count": 90,
   "metadata": {},
   "outputs": [],
   "source": [
    "edge = [N, N2]\n",
    "vship = 5\n",
    "\n",
    "from_node = edge[0]\n",
    "to_node = edge[1]\n",
    "W = Functions.costfunction_timeseries(edge, vship, Roadmap.nodes, Roadmap.u, Roadmap.v, Roadmap.mask) + Roadmap.t"
   ]
  },
  {
   "cell_type": "code",
   "execution_count": 111,
   "metadata": {},
   "outputs": [
    {
     "data": {
      "text/plain": [
       "(0, 750)"
      ]
     },
     "execution_count": 111,
     "metadata": {},
     "output_type": "execute_result"
    },
    {
     "data": {
      "image/png": "[encoded data removed]",
      "text/plain": [
       "<Figure size 432x288 with 1 Axes>"
      ]
     },
     "metadata": {},
     "output_type": "display_data"
    }
   ],
   "source": [
    "#plt.plot(x, W[x], '.')\n",
    "plt.plot(W[:])\n",
    "plt.xlim(0,750)"
   ]
  },
  {
   "cell_type": "code",
   "execution_count": 133,
   "metadata": {},
   "outputs": [],
   "source": [
    "W_fifo = FIFO_maker3(W, Roadmap.mask[N], Roadmap.mask[N2])"
   ]
  },
  {
   "cell_type": "code",
   "execution_count": 143,
   "metadata": {},
   "outputs": [
    {
     "data": {
      "text/plain": [
       "[<matplotlib.lines.Line2D at 0x193f916f160>]"
      ]
     },
     "execution_count": 143,
     "metadata": {},
     "output_type": "execute_result"
    },
    {
     "data": {
      "image/png": "[encoded data removed]",
      "text/plain": [
       "<Figure size 432x288 with 1 Axes>"
      ]
     },
     "metadata": {},
     "output_type": "display_data"
    }
   ],
   "source": [
    "plt.plot(W_fifo[W != np.inf])\n",
    "plt.plot(W[W != np.inf]+100000)"
   ]
  },
  {
   "cell_type": "code",
   "execution_count": null,
   "metadata": {},
   "outputs": [],
   "source": []
  }
 ],
 "metadata": {
  "kernelspec": {
   "display_name": "Python 3",
   "language": "python",
   "name": "python3"
  },
  "language_info": {
   "codemirror_mode": {
    "name": "ipython",
    "version": 3
   },
   "file_extension": ".py",
   "mimetype": "text/x-python",
   "name": "python",
   "nbconvert_exporter": "python",
   "pygments_lexer": "ipython3",
   "version": "3.6.5"
  }
 },
 "nbformat": 4,
 "nbformat_minor": 2
}
