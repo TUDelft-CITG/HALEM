{
 "cells": [
  {
   "cell_type": "code",
   "execution_count": 1,
   "metadata": {},
   "outputs": [],
   "source": [
    "from collections import defaultdict\n",
    "import math\n",
    "import numpy as np\n",
    "from numpy import ma\n",
    "import datetime, time\n",
    "from datetime import datetime\n",
    "import netCDF4\n",
    "from netCDF4 import Dataset, num2date\n",
    "from scipy.interpolate import griddata\n",
    "\n",
    "import RODFF\n",
    "import RODFF.Mesh_maker as Mesh_maker\n",
    "import RODFF.Functions as Functions\n",
    "import RODFF.Calc_path as Calc_path\n",
    "import RODFF.Flow_class as Flow_class\n",
    "\n",
    "import matplotlib.pyplot as plt\n",
    "plt.style.use('ggplot')\n",
    "% matplotlib inline\n",
    "\n",
    "import os\n",
    "from cartopy import config\n",
    "import cartopy.crs as ccrs\n",
    "import cartopy.feature as cfeature"
   ]
  },
  {
   "cell_type": "markdown",
   "metadata": {},
   "source": [
    "# User defined values"
   ]
  },
  {
   "cell_type": "code",
   "execution_count": 2,
   "metadata": {},
   "outputs": [],
   "source": [
    "nl = (1,1)\n",
    "dx_min = 0.05\n",
    "blend = 0.8\n",
    "\n",
    "\n",
    "number_of_neighbor_layers = 2\n",
    "vship = vship = np.array([[5,16], [7,18]])\n",
    "WD_min = 1.5\n",
    "Load_flow = Flow_class.flow_2D_FM_05nm\n",
    "\n",
    "name_textfile_flow = 'D:/DCSM-FM/A06_pieter/DCSM-FM_0_5nm_0017_map.nc'\n",
    "name_textfile_save = 'test'\n",
    "\n",
    "node_index = np.loadtxt('D:/Roadmaps/nodes_inex(Rm_DCSM_FM_05nm_WDmin=1.5,nl=(0.9, 1)).csv', dtype=int)"
   ]
  },
  {
   "cell_type": "code",
   "execution_count": 3,
   "metadata": {},
   "outputs": [],
   "source": [
    "def compute_cost(week_rate, fuel_rate):\n",
    "    second_rate = week_rate/7/24/60/60\n",
    "    return lambda travel_time, speed: (travel_time*second_rate + fuel_rate*travel_time * speed**3)"
   ]
  },
  {
   "cell_type": "code",
   "execution_count": 4,
   "metadata": {
    "scrolled": true
   },
   "outputs": [
    {
     "ename": "KeyboardInterrupt",
     "evalue": "",
     "output_type": "error",
     "traceback": [
      "\u001b[1;31m---------------------------------------------------------------------------\u001b[0m",
      "\u001b[1;31mKeyboardInterrupt\u001b[0m                         Traceback (most recent call last)",
      "\u001b[1;32m<ipython-input-4-21c2db63ab24>\u001b[0m in \u001b[0;36m<module>\u001b[1;34m()\u001b[0m\n\u001b[0;32m      7\u001b[0m                                                  \u001b[0mLoad_flow\u001b[0m\u001b[1;33m,\u001b[0m\u001b[1;33m\u001b[0m\u001b[0m\n\u001b[0;32m      8\u001b[0m                                                  \u001b[0mWD_min\u001b[0m\u001b[1;33m,\u001b[0m\u001b[1;33m\u001b[0m\u001b[0m\n\u001b[1;32m----> 9\u001b[1;33m                                                  \u001b[0mcompute_cost\u001b[0m\u001b[1;33m(\u001b[0m\u001b[1;36m700_000\u001b[0m\u001b[1;33m,\u001b[0m \u001b[1;36m0.0005\u001b[0m\u001b[1;33m)\u001b[0m\u001b[1;33m,\u001b[0m\u001b[1;33m\u001b[0m\u001b[0m\n\u001b[0m\u001b[0;32m     10\u001b[0m                                                 )\n\u001b[0;32m     11\u001b[0m \u001b[1;33m\u001b[0m\u001b[0m\n",
      "\u001b[1;32mc:\\users\\d4l\\onedrive - van oord\\route_optimization_in_dynamic_currents\\RODFF\\Mesh_maker.py\u001b[0m in \u001b[0;36m__init__\u001b[1;34m(self, name_textfile_flow, nodes_index, number_of_neighbor_layers, vship, Load_flow, WD_min, compute_cost)\u001b[0m\n\u001b[0;32m    232\u001b[0m     \u001b[1;32mdef\u001b[0m \u001b[0m__init__\u001b[0m\u001b[1;33m(\u001b[0m\u001b[0mself\u001b[0m\u001b[1;33m,\u001b[0m \u001b[0mname_textfile_flow\u001b[0m\u001b[1;33m,\u001b[0m \u001b[0mnodes_index\u001b[0m\u001b[1;33m,\u001b[0m \u001b[0mnumber_of_neighbor_layers\u001b[0m\u001b[1;33m,\u001b[0m \u001b[0mvship\u001b[0m\u001b[1;33m,\u001b[0m \u001b[0mLoad_flow\u001b[0m\u001b[1;33m,\u001b[0m \u001b[0mWD_min\u001b[0m\u001b[1;33m,\u001b[0m \u001b[0mcompute_cost\u001b[0m\u001b[1;33m)\u001b[0m\u001b[1;33m:\u001b[0m\u001b[1;33m\u001b[0m\u001b[0m\n\u001b[0;32m    233\u001b[0m         \u001b[1;34m'Load Flow'\u001b[0m\u001b[1;33m\u001b[0m\u001b[0m\n\u001b[1;32m--> 234\u001b[1;33m         \u001b[0mflow\u001b[0m \u001b[1;33m=\u001b[0m \u001b[0mLoad_flow\u001b[0m\u001b[1;33m(\u001b[0m\u001b[0mname_textfile_flow\u001b[0m\u001b[1;33m)\u001b[0m\u001b[1;33m\u001b[0m\u001b[0m\n\u001b[0m\u001b[0;32m    235\u001b[0m         \u001b[0mprint\u001b[0m\u001b[1;33m(\u001b[0m\u001b[1;34m'1/4'\u001b[0m\u001b[1;33m)\u001b[0m\u001b[1;33m\u001b[0m\u001b[0m\n\u001b[0;32m    236\u001b[0m \u001b[1;33m\u001b[0m\u001b[0m\n",
      "\u001b[1;32mc:\\users\\d4l\\onedrive - van oord\\route_optimization_in_dynamic_currents\\RODFF\\Flow_class.py\u001b[0m in \u001b[0;36m__init__\u001b[1;34m(self, name)\u001b[0m\n\u001b[0;32m     28\u001b[0m         \u001b[0mself\u001b[0m\u001b[1;33m.\u001b[0m\u001b[0mWD\u001b[0m \u001b[1;33m=\u001b[0m \u001b[0mnc\u001b[0m\u001b[1;33m.\u001b[0m\u001b[0mvariables\u001b[0m\u001b[1;33m[\u001b[0m\u001b[1;34m'mesh2d_waterdepth'\u001b[0m\u001b[1;33m]\u001b[0m\u001b[1;33m[\u001b[0m\u001b[1;33m:\u001b[0m\u001b[1;33m,\u001b[0m\u001b[1;33m:\u001b[0m\u001b[1;33m]\u001b[0m\u001b[1;33m\u001b[0m\u001b[0m\n\u001b[0;32m     29\u001b[0m         \u001b[0mself\u001b[0m\u001b[1;33m.\u001b[0m\u001b[0mu\u001b[0m \u001b[1;33m=\u001b[0m \u001b[0mnc\u001b[0m\u001b[1;33m.\u001b[0m\u001b[0mvariables\u001b[0m\u001b[1;33m[\u001b[0m\u001b[1;34m'mesh2d_ucx'\u001b[0m\u001b[1;33m]\u001b[0m\u001b[1;33m[\u001b[0m\u001b[1;33m:\u001b[0m\u001b[1;33m,\u001b[0m\u001b[1;33m:\u001b[0m\u001b[1;33m]\u001b[0m\u001b[1;33m\u001b[0m\u001b[0m\n\u001b[1;32m---> 30\u001b[1;33m         \u001b[0mself\u001b[0m\u001b[1;33m.\u001b[0m\u001b[0mv\u001b[0m \u001b[1;33m=\u001b[0m \u001b[0mnc\u001b[0m\u001b[1;33m.\u001b[0m\u001b[0mvariables\u001b[0m\u001b[1;33m[\u001b[0m\u001b[1;34m'mesh2d_ucy'\u001b[0m\u001b[1;33m]\u001b[0m\u001b[1;33m[\u001b[0m\u001b[1;33m:\u001b[0m\u001b[1;33m,\u001b[0m\u001b[1;33m:\u001b[0m\u001b[1;33m]\u001b[0m\u001b[1;33m\u001b[0m\u001b[0m\n\u001b[0m\u001b[0;32m     31\u001b[0m \u001b[1;33m\u001b[0m\u001b[0m\n\u001b[0;32m     32\u001b[0m         \u001b[0mself\u001b[0m\u001b[1;33m.\u001b[0m\u001b[0mnodes\u001b[0m \u001b[1;33m=\u001b[0m \u001b[0mnp\u001b[0m\u001b[1;33m.\u001b[0m\u001b[0mzeros\u001b[0m\u001b[1;33m(\u001b[0m\u001b[1;33m(\u001b[0m\u001b[0mlen\u001b[0m\u001b[1;33m(\u001b[0m\u001b[0mx\u001b[0m\u001b[1;33m)\u001b[0m\u001b[1;33m,\u001b[0m\u001b[1;36m2\u001b[0m\u001b[1;33m)\u001b[0m\u001b[1;33m)\u001b[0m\u001b[1;33m\u001b[0m\u001b[0m\n",
      "\u001b[1;32mnetCDF4\\_netCDF4.pyx\u001b[0m in \u001b[0;36mnetCDF4._netCDF4.Variable.__getitem__\u001b[1;34m()\u001b[0m\n",
      "\u001b[1;32mnetCDF4\\_netCDF4.pyx\u001b[0m in \u001b[0;36mnetCDF4._netCDF4.Variable._toma\u001b[1;34m()\u001b[0m\n",
      "\u001b[1;32mnetCDF4\\_netCDF4.pyx\u001b[0m in \u001b[0;36mnetCDF4._netCDF4.Variable._check_safecast\u001b[1;34m()\u001b[0m\n",
      "\u001b[1;32mC:\\ProgramData\\Anaconda3\\lib\\site-packages\\netCDF4\\utils.py\u001b[0m in \u001b[0;36m_safecast\u001b[1;34m(a, b)\u001b[0m\n\u001b[0;32m     21\u001b[0m     \u001b[0mbytes\u001b[0m \u001b[1;33m=\u001b[0m \u001b[0mstr\u001b[0m\u001b[1;33m\u001b[0m\u001b[0m\n\u001b[0;32m     22\u001b[0m \u001b[1;33m\u001b[0m\u001b[0m\n\u001b[1;32m---> 23\u001b[1;33m \u001b[1;32mdef\u001b[0m \u001b[0m_safecast\u001b[0m\u001b[1;33m(\u001b[0m\u001b[0ma\u001b[0m\u001b[1;33m,\u001b[0m\u001b[0mb\u001b[0m\u001b[1;33m)\u001b[0m\u001b[1;33m:\u001b[0m\u001b[1;33m\u001b[0m\u001b[0m\n\u001b[0m\u001b[0;32m     24\u001b[0m     \u001b[1;31m# check to see if array a can be safely cast\u001b[0m\u001b[1;33m\u001b[0m\u001b[1;33m\u001b[0m\u001b[0m\n\u001b[0;32m     25\u001b[0m     \u001b[1;31m# to array b.  A little less picky than numpy.can_cast.\u001b[0m\u001b[1;33m\u001b[0m\u001b[1;33m\u001b[0m\u001b[0m\n",
      "\u001b[1;31mKeyboardInterrupt\u001b[0m: "
     ]
    }
   ],
   "source": [
    "start_time = time.time()\n",
    "\n",
    "graph = Mesh_maker.Graph_flow_model_with_indices(name_textfile_flow, \n",
    "                                                 node_index, \n",
    "                                                 number_of_neighbor_layers, \n",
    "                                                 vship, \n",
    "                                                 Load_flow, \n",
    "                                                 WD_min,\n",
    "                                                 compute_cost(700_000, 0.0005),\n",
    "                                                )\n",
    "\n",
    "stop_time = time.time()\n",
    "computation_time = stop_time - start_time\n",
    "print(\"the computational time is:\", round(computation_time,2), \"sec\")"
   ]
  },
  {
   "cell_type": "code",
   "execution_count": null,
   "metadata": {},
   "outputs": [],
   "source": [
    "RODFF.save_object(graph, name_textfile_save)"
   ]
  },
  {
   "cell_type": "markdown",
   "metadata": {},
   "source": [
    "# Plots"
   ]
  },
  {
   "cell_type": "code",
   "execution_count": null,
   "metadata": {},
   "outputs": [],
   "source": [
    "fig = plt.figure(figsize=(15, 15))\n",
    "ax = plt.axes(projection=ccrs.Mercator())\n",
    "\n",
    "#cval = np.arange(0,1, 0.01)\n",
    "#plt.contourf(x_r,y_r, LS_r, cval)\n",
    "#cbar = plt.colorbar()\n",
    "\n",
    "plt.triplot(graph.nodes[:,1], graph.nodes[:,0], graph.tria.simplices, linewidth = 0.5, color = 'k', label = 'Delauney edges')\n"
   ]
  },
  {
   "cell_type": "code",
   "execution_count": null,
   "metadata": {},
   "outputs": [],
   "source": [
    "curl = np.arange(0,100,0.001)\n",
    "def LS(nonlinearity):\n",
    "    LS = 1/(1+curl)**nonlinearity\n",
    "    return LS\n",
    "\n",
    "fig = plt.figure()\n",
    "fig.set_size_inches(6, 6)\n",
    "plt.semilogx(curl, LS(0), label = r'$\\beta =  0$')\n",
    "plt.semilogx(curl, LS(1), label = r'$\\beta =  1$')\n",
    "plt.semilogx(curl, LS(5), label = r'$\\beta =  5$')\n",
    "plt.semilogx(curl, LS(10), label = r'$\\beta =  10$')\n",
    "plt.semilogx(curl, LS(20), label = r'$\\beta =  20$')\n",
    "plt.semilogx(curl, LS(np.inf), label = r'$\\beta =  infinite$')\n",
    "\n",
    "plt.title(\"influence of the nonlinearity on the length scale, \\n LS = 1/(1+curl)^nonlinearity\")\n",
    "plt.xlabel(\"Absolute value of the curl or magnitude of the flow (on log scale)\")\n",
    "plt.ylabel(\"Length scale for different nonlinearities\")\n",
    "\n",
    "plt.legend(loc = 'best')\n",
    "#plt.savefig(\"Influence_of_nonlinearity\", dpi = 200)\n",
    "plt.show()"
   ]
  },
  {
   "cell_type": "code",
   "execution_count": null,
   "metadata": {},
   "outputs": [],
   "source": [
    "x_r = np.arange(4.5,5.5, 0.001)\n",
    "y_r = np.arange(53,54, 0.01)\n",
    "y_r, x_r = np.meshgrid(y_r,x_r)\n",
    "\n",
    "WD_r = griddata((graph.nodes[:,1], graph.nodes[:,0]), graph.WD[:,1], (x_r, y_r), method= 'linear')"
   ]
  },
  {
   "cell_type": "code",
   "execution_count": null,
   "metadata": {},
   "outputs": [],
   "source": [
    "fig = plt.figure(figsize=(15, 15))\n",
    "ax = plt.axes(projection=ccrs.Mercator())\n",
    "\n",
    "cval = np.arange(1.5,40,1)\n",
    "plt.contourf(x_r,y_r,WD_r, cval, transform=ccrs.PlateCarree())\n",
    "#cbar = plt.colorbar()\n",
    "\n",
    "ax.coastlines(resolution='10m', color='black', linewidth=3)\n",
    "ax.gridlines(color = 'grey', zorder = 3)\n",
    "ax.add_feature(cfeature.NaturalEarthFeature('physical', 'land', '10m', edgecolor='face', facecolor='palegoldenrod'))\n",
    "\n",
    "plt.plot(graph.nodes[550][1],graph.nodes[550][0], 'ro', transform=ccrs.PlateCarree())\n",
    "plt.show()\n",
    "\n",
    "\n",
    "print(len(graph.nodes)**0.5)"
   ]
  },
  {
   "cell_type": "code",
   "execution_count": null,
   "metadata": {},
   "outputs": [],
   "source": []
  },
  {
   "cell_type": "code",
   "execution_count": null,
   "metadata": {},
   "outputs": [],
   "source": []
  }
 ],
 "metadata": {
  "kernelspec": {
   "display_name": "Python 3",
   "language": "python",
   "name": "python3"
  },
  "language_info": {
   "codemirror_mode": {
    "name": "ipython",
    "version": 3
   },
   "file_extension": ".py",
   "mimetype": "text/x-python",
   "name": "python",
   "nbconvert_exporter": "python",
   "pygments_lexer": "ipython3",
   "version": "3.6.5"
  }
 },
 "nbformat": 4,
 "nbformat_minor": 2
}
