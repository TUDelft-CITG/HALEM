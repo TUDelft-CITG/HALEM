{
 "cells": [
  {
   "cell_type": "code",
   "execution_count": 1,
   "metadata": {},
   "outputs": [],
   "source": [
    "import pickle\n",
    "import halem\n",
    "import datetime, time\n",
    "import numpy as np\n",
    "\n",
    "import matplotlib.pyplot as plt\n",
    "plt.style.use('ggplot')\n",
    "% matplotlib inline\n",
    "\"disable functions below if cartopy is unavailable\"\n",
    "from cartopy import config\n",
    "import cartopy.crs as ccrs\n",
    "import cartopy.feature as cfeature"
   ]
  },
  {
   "cell_type": "code",
   "execution_count": 3,
   "metadata": {},
   "outputs": [],
   "source": [
    "name_textfile_load = 'D:/Roadmaps/Roadmap_tidal_anaysis'\n",
    "\n",
    "with open(name_textfile_load, 'rb') as input:\n",
    "    Roadmap = pickle.load(input)"
   ]
  },
  {
   "cell_type": "code",
   "execution_count": 4,
   "metadata": {},
   "outputs": [],
   "source": [
    "#t0 = '26/06/2019 12:00:00'\n",
    "t0 = '24/06/2019 00:00:00'\n",
    "\n",
    "start =(4.788699, 52.970919)\n",
    "stop = (53.439645, 5.379979)[::-1]\n",
    "\n",
    "vmax = 8"
   ]
  },
  {
   "cell_type": "code",
   "execution_count": 5,
   "metadata": {},
   "outputs": [
    {
     "ename": "AttributeError",
     "evalue": "'Graph_flow_model_with_indices' object has no attribute 'repeat'",
     "output_type": "error",
     "traceback": [
      "\u001b[1;31m---------------------------------------------------------------------------\u001b[0m",
      "\u001b[1;31mAttributeError\u001b[0m                            Traceback (most recent call last)",
      "\u001b[1;32m<ipython-input-5-c8eb5dfd237c>\u001b[0m in \u001b[0;36m<module>\u001b[1;34m()\u001b[0m\n\u001b[1;32m----> 1\u001b[1;33m \u001b[0mpath_t\u001b[0m\u001b[1;33m,\u001b[0m \u001b[0mtime_t\u001b[0m\u001b[1;33m,\u001b[0m \u001b[0mdist_t\u001b[0m \u001b[1;33m=\u001b[0m \u001b[0mhalem\u001b[0m\u001b[1;33m.\u001b[0m\u001b[0mHALEM_time\u001b[0m\u001b[1;33m(\u001b[0m\u001b[0mstart\u001b[0m\u001b[1;33m,\u001b[0m \u001b[0mstop\u001b[0m\u001b[1;33m,\u001b[0m \u001b[0mt0\u001b[0m\u001b[1;33m,\u001b[0m \u001b[0mvmax\u001b[0m\u001b[1;33m,\u001b[0m \u001b[0mRoadmap\u001b[0m\u001b[1;33m)\u001b[0m\u001b[1;33m\u001b[0m\u001b[0m\n\u001b[0m\u001b[0;32m      2\u001b[0m \u001b[0mpath_s\u001b[0m\u001b[1;33m,\u001b[0m \u001b[0mtime_s\u001b[0m\u001b[1;33m,\u001b[0m \u001b[0mdist_s\u001b[0m \u001b[1;33m=\u001b[0m \u001b[0mhalem\u001b[0m\u001b[1;33m.\u001b[0m\u001b[0mHALEM_space\u001b[0m\u001b[1;33m(\u001b[0m\u001b[0mstart\u001b[0m\u001b[1;33m,\u001b[0m \u001b[0mstop\u001b[0m\u001b[1;33m,\u001b[0m \u001b[0mt0\u001b[0m\u001b[1;33m,\u001b[0m \u001b[0mvmax\u001b[0m\u001b[1;33m,\u001b[0m \u001b[0mRoadmap\u001b[0m\u001b[1;33m)\u001b[0m\u001b[1;33m\u001b[0m\u001b[0m\n\u001b[0;32m      3\u001b[0m \u001b[0mpath_c\u001b[0m\u001b[1;33m,\u001b[0m \u001b[0mtime_c\u001b[0m\u001b[1;33m,\u001b[0m \u001b[0mdist_c\u001b[0m \u001b[1;33m=\u001b[0m \u001b[0mhalem\u001b[0m\u001b[1;33m.\u001b[0m\u001b[0mHALEM_cost\u001b[0m\u001b[1;33m(\u001b[0m\u001b[0mstart\u001b[0m\u001b[1;33m,\u001b[0m \u001b[0mstop\u001b[0m\u001b[1;33m,\u001b[0m \u001b[0mt0\u001b[0m\u001b[1;33m,\u001b[0m \u001b[0mvmax\u001b[0m\u001b[1;33m,\u001b[0m \u001b[0mRoadmap\u001b[0m\u001b[1;33m)\u001b[0m\u001b[1;33m\u001b[0m\u001b[0m\n",
      "\u001b[1;32mc:\\users\\d4l\\onedrive - van oord\\route_optimization_in_dynamic_currents\\halem\\__init__.py\u001b[0m in \u001b[0;36mHALEM_time\u001b[1;34m(start, stop, t0, vmax, Roadmap)\u001b[0m\n\u001b[0;32m    102\u001b[0m             \u001b[0mvship\u001b[0m \u001b[1;33m=\u001b[0m \u001b[0mRoadmap\u001b[0m\u001b[1;33m.\u001b[0m\u001b[0mvship\u001b[0m\u001b[1;33m[\u001b[0m\u001b[0marg_vship\u001b[0m\u001b[1;33m]\u001b[0m\u001b[1;33m\u001b[0m\u001b[0m\n\u001b[0;32m    103\u001b[0m \u001b[1;33m\u001b[0m\u001b[0m\n\u001b[1;32m--> 104\u001b[1;33m         \u001b[0mroute\u001b[0m \u001b[1;33m=\u001b[0m \u001b[0mCalc_path\u001b[0m\u001b[1;33m.\u001b[0m\u001b[0mHas_route\u001b[0m\u001b[1;33m(\u001b[0m\u001b[0mstart\u001b[0m\u001b[1;33m,\u001b[0m \u001b[0mstop\u001b[0m\u001b[1;33m,\u001b[0m \u001b[0mRoadmap\u001b[0m\u001b[1;33m,\u001b[0m \u001b[0mt0\u001b[0m\u001b[1;33m,\u001b[0m \u001b[0mgraph_functions_time\u001b[0m\u001b[1;33m)\u001b[0m\u001b[1;33m\u001b[0m\u001b[0m\n\u001b[0m\u001b[0;32m    105\u001b[0m         \u001b[0mpath\u001b[0m \u001b[1;33m=\u001b[0m \u001b[0mRoadmap\u001b[0m\u001b[1;33m.\u001b[0m\u001b[0mnodes\u001b[0m\u001b[1;33m[\u001b[0m\u001b[0mnp\u001b[0m\u001b[1;33m.\u001b[0m\u001b[0marray\u001b[0m\u001b[1;33m(\u001b[0m\u001b[0mroute\u001b[0m\u001b[1;33m.\u001b[0m\u001b[0mroute\u001b[0m\u001b[1;33m[\u001b[0m\u001b[1;33m:\u001b[0m\u001b[1;33m,\u001b[0m\u001b[1;36m0\u001b[0m\u001b[1;33m]\u001b[0m\u001b[1;33m,\u001b[0m \u001b[0mdtype\u001b[0m\u001b[1;33m=\u001b[0m\u001b[0mint\u001b[0m\u001b[1;33m)\u001b[0m\u001b[1;33m]\u001b[0m\u001b[1;33m\u001b[0m\u001b[0m\n\u001b[0;32m    106\u001b[0m         \u001b[0mtime\u001b[0m \u001b[1;33m=\u001b[0m \u001b[0mroute\u001b[0m\u001b[1;33m.\u001b[0m\u001b[0mroute\u001b[0m\u001b[1;33m[\u001b[0m\u001b[1;33m:\u001b[0m\u001b[1;33m,\u001b[0m\u001b[1;36m1\u001b[0m\u001b[1;33m]\u001b[0m\u001b[1;33m\u001b[0m\u001b[0m\n",
      "\u001b[1;32mc:\\users\\d4l\\onedrive - van oord\\route_optimization_in_dynamic_currents\\halem\\Calc_path.py\u001b[0m in \u001b[0;36m__init__\u001b[1;34m(self, start, stop, graph, t0, graph_functions)\u001b[0m\n\u001b[0;32m     93\u001b[0m         \u001b[0mself\u001b[0m\u001b[1;33m.\u001b[0m\u001b[0mstop\u001b[0m \u001b[1;33m=\u001b[0m \u001b[1;33m(\u001b[0m\u001b[0mstop\u001b[0m\u001b[1;33m,\u001b[0m \u001b[1;36m0\u001b[0m\u001b[1;33m)\u001b[0m\u001b[1;33m\u001b[0m\u001b[0m\n\u001b[0;32m     94\u001b[0m \u001b[1;33m\u001b[0m\u001b[0m\n\u001b[1;32m---> 95\u001b[1;33m         \u001b[0mself\u001b[0m\u001b[1;33m.\u001b[0m\u001b[0mroute\u001b[0m\u001b[1;33m=\u001b[0m \u001b[0mnp\u001b[0m\u001b[1;33m.\u001b[0m\u001b[0marray\u001b[0m\u001b[1;33m(\u001b[0m\u001b[0mdijsktra\u001b[0m\u001b[1;33m(\u001b[0m\u001b[0mgraph\u001b[0m\u001b[1;33m,\u001b[0m \u001b[0mself\u001b[0m\u001b[1;33m.\u001b[0m\u001b[0mstart\u001b[0m\u001b[1;33m,\u001b[0m \u001b[0mself\u001b[0m\u001b[1;33m.\u001b[0m\u001b[0mstop\u001b[0m\u001b[1;33m,\u001b[0m \u001b[0mt0\u001b[0m\u001b[1;33m,\u001b[0m \u001b[0mgraph_functions\u001b[0m\u001b[1;33m)\u001b[0m\u001b[1;33m)\u001b[0m\u001b[1;33m\u001b[0m\u001b[0m\n\u001b[0m\u001b[0;32m     96\u001b[0m \u001b[1;33m\u001b[0m\u001b[0m\n\u001b[0;32m     97\u001b[0m         \u001b[0mself\u001b[0m\u001b[1;33m.\u001b[0m\u001b[0mx_route\u001b[0m \u001b[1;33m=\u001b[0m \u001b[0mnp\u001b[0m\u001b[1;33m.\u001b[0m\u001b[0mzeros\u001b[0m\u001b[1;33m(\u001b[0m\u001b[0mlen\u001b[0m\u001b[1;33m(\u001b[0m\u001b[0mself\u001b[0m\u001b[1;33m.\u001b[0m\u001b[0mroute\u001b[0m\u001b[1;33m[\u001b[0m\u001b[1;33m:\u001b[0m\u001b[1;33m,\u001b[0m\u001b[1;36m0\u001b[0m\u001b[1;33m]\u001b[0m\u001b[1;33m)\u001b[0m\u001b[1;33m)\u001b[0m\u001b[1;33m\u001b[0m\u001b[0m\n",
      "\u001b[1;32mc:\\users\\d4l\\onedrive - van oord\\route_optimization_in_dynamic_currents\\halem\\Calc_path.py\u001b[0m in \u001b[0;36mdijsktra\u001b[1;34m(graph, initial, end, t0, graph_functions)\u001b[0m\n\u001b[0;32m     44\u001b[0m     \u001b[0mgraph\u001b[0m \u001b[1;33m=\u001b[0m \u001b[0mgraph\u001b[0m\u001b[1;33m.\u001b[0m\u001b[0mgraph\u001b[0m\u001b[1;33m\u001b[0m\u001b[0m\n\u001b[0;32m     45\u001b[0m \u001b[1;33m\u001b[0m\u001b[0m\n\u001b[1;32m---> 46\u001b[1;33m     \u001b[0mfind_k\u001b[0m \u001b[1;33m=\u001b[0m \u001b[0mfind_k_time\u001b[0m \u001b[1;32mif\u001b[0m \u001b[0mGraph_data\u001b[0m\u001b[1;33m.\u001b[0m\u001b[0mrepeat\u001b[0m \u001b[1;33m==\u001b[0m \u001b[1;32mFalse\u001b[0m \u001b[1;32melse\u001b[0m \u001b[0mfind_k_repeat\u001b[0m\u001b[1;33m\u001b[0m\u001b[0m\n\u001b[0m\u001b[0;32m     47\u001b[0m \u001b[1;33m\u001b[0m\u001b[0m\n\u001b[0;32m     48\u001b[0m     \u001b[1;32mwhile\u001b[0m \u001b[0mcurrent_node\u001b[0m \u001b[1;33m!=\u001b[0m \u001b[0mend\u001b[0m\u001b[1;33m:\u001b[0m\u001b[1;33m\u001b[0m\u001b[0m\n",
      "\u001b[1;31mAttributeError\u001b[0m: 'Graph_flow_model_with_indices' object has no attribute 'repeat'"
     ]
    }
   ],
   "source": [
    "path_t, time_t, dist_t = halem.HALEM_time(start, stop, t0, vmax, Roadmap)\n",
    "path_s, time_s, dist_s = halem.HALEM_space(start, stop, t0, vmax, Roadmap)\n",
    "path_c, time_c, dist_c = halem.HALEM_cost(start, stop, t0, vmax, Roadmap)"
   ]
  },
  {
   "cell_type": "code",
   "execution_count": null,
   "metadata": {},
   "outputs": [],
   "source": [
    "fig = plt.figure(figsize = (10,10))\n",
    "ax = plt.subplot(211, projection=ccrs.Mercator())\n",
    "ax.coastlines(resolution='10m', color='black', linewidth=3)\n",
    "ax.gridlines(color = 'grey', zorder = 3)\n",
    "ax.add_feature(cfeature.NaturalEarthFeature('physical', 'land', '10m', edgecolor='face', facecolor='palegoldenrod'))\n",
    "\n",
    "plt.plot(path_t[:,0], path_t[:,1],'.', transform=ccrs.PlateCarree(), label = 'fastest path')\n",
    "plt.plot(path_s[:,0], path_s[:,1],'.', transform=ccrs.PlateCarree(), label = 'shortests path')\n",
    "plt.plot(path_c[:,0], path_c[:,1],'.', transform=ccrs.PlateCarree(), label = 'cheapest path')\n",
    "plt.legend(loc='best')\n",
    "\n",
    "ax = plt.subplot(234)\n",
    "halem.plot_timeseries2(path_t, time_t, Roadmap, Color = 'tab:red')\n",
    "\n",
    "ax = plt.subplot(235)\n",
    "halem.plot_timeseries2(path_s, time_s, Roadmap, Color = 'tab:blue')\n",
    "\n",
    "ax = plt.subplot(236)\n",
    "halem.plot_timeseries2(path_c, time_c, Roadmap, Color = 'tab:purple')\n",
    "\n",
    "\n",
    "plt.show()"
   ]
  },
  {
   "cell_type": "code",
   "execution_count": null,
   "metadata": {},
   "outputs": [],
   "source": []
  }
 ],
 "metadata": {
  "kernelspec": {
   "display_name": "Python 3",
   "language": "python",
   "name": "python3"
  },
  "language_info": {
   "codemirror_mode": {
    "name": "ipython",
    "version": 3
   },
   "file_extension": ".py",
   "mimetype": "text/x-python",
   "name": "python",
   "nbconvert_exporter": "python",
   "pygments_lexer": "ipython3",
   "version": "3.6.5"
  }
 },
 "nbformat": 4,
 "nbformat_minor": 2
}
